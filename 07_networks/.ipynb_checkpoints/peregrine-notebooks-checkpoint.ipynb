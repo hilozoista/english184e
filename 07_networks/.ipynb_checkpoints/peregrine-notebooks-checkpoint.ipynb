{
 "cells": [
  {
   "cell_type": "markdown",
   "metadata": {},
   "source": [
    "Final Project: The Peregrine\n",
    "\n"
   ]
  },
  {
   "cell_type": "code",
   "execution_count": 11,
   "metadata": {},
   "outputs": [
    {
     "name": "stderr",
     "output_type": "stream",
     "text": [
      "[nltk_data] Downloading package averaged_perceptron_tagger to\n",
      "[nltk_data]     /Users/SITPadmin/nltk_data...\n",
      "[nltk_data]   Unzipping taggers/averaged_perceptron_tagger.zip.\n"
     ]
    }
   ],
   "source": [
    "import json\n",
    "import numpy as np\n",
    "import pandas as pd\n",
    "import networkx as nx\n",
    "import matplotlib.pyplot as plt\n",
    "%matplotlib inline\n",
    "nltk.download('averaged_perceptron_tagger')\n",
    "\n",
    "text_folder = '../corpora/peregrine/'"
   ]
  },
  {
   "cell_type": "code",
   "execution_count": 2,
   "metadata": {},
   "outputs": [],
   "source": [
    "#thanks to ryan for this method, which I've slightly modified\n",
    "def draw_graph3(networkx_graph,notebook=True,output_filename='graph.html',show_buttons=True,only_physics_buttons=False):\n",
    "    # import\n",
    "    from pyvis import network as net\n",
    "    \n",
    "    # make a pyvis network\n",
    "    pyvis_graph = net.Network(notebook=notebook)\n",
    "    \n",
    "    # for each node and its attributes in the networkx graph\n",
    "    for node,node_attrs in networkx_graph.nodes(data=True):\n",
    "        pyvis_graph.add_node(node,**node_attrs)\n",
    "        \n",
    "    # for each edge and its attributes in the networkx graph\n",
    "    for source,target,edge_attrs in networkx_graph.edges(data=True):\n",
    "        # if value/width not specified directly, and weight is specified, set 'value' to 'weight'\n",
    "        if not 'value' in edge_attrs and not 'width' in edge_attrs and 'weight' in edge_attrs:\n",
    "            # place at key 'value' the weight of the edge\n",
    "            edge_attrs['value']=edge_attrs['weight']\n",
    "        # add the edge\n",
    "        pyvis_graph.add_edge(source,target,**edge_attrs)\n",
    "        \n",
    "    # turn buttons on\n",
    "    if show_buttons:\n",
    "        if only_physics_buttons:\n",
    "            pyvis_graph.show_buttons(filter_=['physics'])\n",
    "        else:\n",
    "            pyvis_graph.show_buttons()\n",
    "    pyvis_graph.set_edge_smooth('dynamic')\n",
    "    # return and also save\n",
    "    return pyvis_graph.show(output_filename)"
   ]
  },
  {
   "cell_type": "code",
   "execution_count": 24,
   "metadata": {},
   "outputs": [
    {
     "name": "stdout",
     "output_type": "stream",
     "text": [
      "hi\n",
      "hi\n",
      "hi\n",
      "hi\n",
      "hi\n",
      "hi\n",
      "hi\n",
      "hi\n",
      "hi\n",
      "hi\n",
      "hi\n",
      "hi\n",
      "hi\n",
      "hi\n",
      "hi\n"
     ]
    }
   ],
   "source": [
    "#adds files\n",
    "import re\n",
    "import os\n",
    "\n",
    "for filename in os.listdir(text_folder):\n",
    "    if filename[:5]==\"hill-\":\n",
    "        with open(os.path.join(text_folder, filename)) as readfile:\n",
    "            with open(text_folder+\"hill.txt\",'a+') as writefile:\n",
    "                writefile.write(readfile.read())\n",
    "                writefile.write(\"\\n\")\n",
    "    readfile.close()\n",
    "writefile.close()"
   ]
  },
  {
   "cell_type": "code",
   "execution_count": 3,
   "metadata": {},
   "outputs": [],
   "source": [
    "import nltk\n",
    "from nltk.corpus import stopwords\n",
    "import re\n",
    "import pyvis\n",
    "from pyvis.network import Network\n",
    "lemma = nltk.wordnet.WordNetLemmatizer()\n",
    "\n",
    "stop_words = stopwords.words('english')\n",
    "stop_words.append('is')\n",
    "stop_words.remove('as')\n",
    "stop_words.append('a')\n",
    "parts = ['N','V','A']\n",
    "colordict = {}\n",
    "colordict['N'] = ['green',15]\n",
    "colordict['V'] = ['red',15]\n",
    "colordict['A'] = ['pink',15]\n",
    "colordict['D'] = ['#c0c1c4',15]\n",
    "colordict['P'] = ['yellow',15]\n",
    "birds = ['falcon',\"peregrine\",\"tiercel\",\"lapwing\",\"woodcock\",\"curlew\",\"heron\",\"sandpiper\",\n",
    "        \"snipe\",\"wigeon\",\"starling\",\"skylark\",\"gull\",\"owl\",\"mallard\",\"woodpigeons\",\"swan\",\n",
    "        \"jackdaw\",\"lark\",\"plover\",\"partridge\",\"pigeon\",\"duck\",\"hawk\",\"crow\",\"teal\",\"wildfowl\",\n",
    "        \"blackbird\",\"bunting\",\"swallow\",\"martin\",\"kestrel\",\"jay\",\"plover\",\"sanderling\",\n",
    "        \"wader\",\"pheasant\",\"greenshank\"]\n",
    "for bird in birds:\n",
    "    colordict[bird] = [\"blue\",30]\n",
    "    \n",
    "#stopped=0 does nothing\n",
    "#stopped=1 will take out stopwords from nltk's list.\n",
    "#stopped=2 will exclude all words that are not Nouns, Verbs, or Adjectives.\n",
    "def getsents(fn,stopped):\n",
    "    with open(text_folder+fn) as file:\n",
    "        filetext = file.read().lower()\n",
    "    sents_unstripped = nltk.sent_tokenize(filetext)\n",
    "    sents_unstopped = []\n",
    "    for s in sents_unstripped:\n",
    "        sents_unstopped.append(re.sub(r'[^\\w\\-\\s]', '',s).split())\n",
    "    sents = []\n",
    "    for s in sents_unstopped:\n",
    "        st = []\n",
    "        for w in s:\n",
    "            if(stopped==1):\n",
    "                if w not in stop_words:\n",
    "                    st.append(lemma.lemmatize(w))\n",
    "            else:\n",
    "                st.append(lemma.lemmatize(w))\n",
    "        sents.append(st)\n",
    "    return sents\n",
    "\n",
    "def makegraph(sents, stopped, woi):\n",
    "    G = nx.Graph()\n",
    "    sent_holder = []    \n",
    "    part_dict = {}\n",
    "    for s in sents:\n",
    "        tags = nltk.pos_tag(s)\n",
    "        sholder = []\n",
    "        for tag in tags:\n",
    "            if(stopped==2):\n",
    "                if(tag[1][:1] in parts):\n",
    "                    sholder.append(tag[0])\n",
    "            part_dict[tag[0]] = tag[1]\n",
    "        if(len(sholder)!=0):\n",
    "            sent_holder.append(sholder)\n",
    "    if(stopped==2):\n",
    "        sents = sent_holder   \n",
    "    num_sents = len(sents)\n",
    "    storelast = \"\"\n",
    "    for s in sents:\n",
    "        bigs = list(nltk.bigrams(s))\n",
    "        if(len(bigs)>0):\n",
    "            #if sents.index(s)>0:\n",
    "            #    G.add_edge(storelast, bigs[0][0])\n",
    "            for pair in bigs:\n",
    "                p0 = part_dict[pair[0]][:1]\n",
    "                p1 = part_dict[pair[1]][:1]\n",
    "                color0 = '#8c8c8c'\n",
    "                color1 = '#8c8c8c'\n",
    "                size0 = 4\n",
    "                size1 = 4\n",
    "                if pair[0] in woi or pair[1] in woi:\n",
    "                    if pair[0] in colordict.keys():\n",
    "                        color0 = colordict[pair[0]][0]\n",
    "                        size0 = colordict[pair[0]][1]\n",
    "                    elif p0 in colordict.keys():\n",
    "                        color0 = colordict[p0][0]\n",
    "                        size0 = colordict[p0][1]\n",
    "                    if pair[1] in colordict.keys():\n",
    "                        color1 = colordict[pair[1]][0]\n",
    "                        size1 = colordict[pair[1]][1]  \n",
    "                    elif p1 in colordict.keys():\n",
    "                        color1 = colordict[p1][0]\n",
    "                        size1 = colordict[p1][1]\n",
    "                    G.add_node(pair[0],color=color0, size=size0)\n",
    "                    G.add_node(pair[1],color=color1, size=size1)\n",
    "                    G.add_edge(pair[0], pair[1],color=\"grey\")\n",
    "                if sents.index(s)<num_sents-1:\n",
    "                    storelast = bigs[len(bigs)-1][1]\n",
    "    return G"
   ]
  },
  {
   "cell_type": "code",
   "execution_count": 12,
   "metadata": {},
   "outputs": [],
   "source": [
    "import os\n",
    "filenames = os.listdir('../corpora/peregrine/')\n",
    "graph_dict = {}\n",
    "for f in filenames:\n",
    "    if(f[-3:] == \"txt\"):\n",
    "        graph_dict[f[:-4]]=makegraph(getsents(f,1),1,\"ice\")"
   ]
  },
  {
   "cell_type": "code",
   "execution_count": 13,
   "metadata": {
    "scrolled": true
   },
   "outputs": [
    {
     "data": {
      "text/html": [
       "\n",
       "        <iframe\n",
       "            width=\"500px\"\n",
       "            height=\"500px\"\n",
       "            src=\"graph.html\"\n",
       "            frameborder=\"0\"\n",
       "            allowfullscreen\n",
       "        ></iframe>\n",
       "        "
      ],
      "text/plain": [
       "<IPython.lib.display.IFrame at 0x1a254ce1d0>"
      ]
     },
     "execution_count": 13,
     "metadata": {},
     "output_type": "execute_result"
    }
   ],
   "source": [
    "draw_graph3(graph_dict[\"the-hunting-life\"])"
   ]
  },
  {
   "cell_type": "code",
   "execution_count": 127,
   "metadata": {},
   "outputs": [],
   "source": [
    "def make_edge_table(g):\n",
    "    results=[]\n",
    "    for node1,node2,edge_data in g.edges(data=True):\n",
    "        \n",
    "        edge_data['source'] = node1\n",
    "        edge_data['target'] = node2\n",
    "        \n",
    "        results.append(edge_data)\n",
    "    \n",
    "    return pd.DataFrame(results)"
   ]
  },
  {
   "cell_type": "code",
   "execution_count": 129,
   "metadata": {},
   "outputs": [],
   "source": [
    "edge_df = make_edge_table(graph_dict[\"the-hunting-life\"])\n",
    "edge_df\n",
    "edge_df.to_csv('data.network.edges.csv',index=False)"
   ]
  },
  {
   "cell_type": "code",
   "execution_count": null,
   "metadata": {},
   "outputs": [],
   "source": []
  },
  {
   "cell_type": "code",
   "execution_count": 8,
   "metadata": {},
   "outputs": [
    {
     "ename": "KeyError",
     "evalue": "'the-hunting-life'",
     "output_type": "error",
     "traceback": [
      "\u001b[0;31m---------------------------------------------------------------------------\u001b[0m",
      "\u001b[0;31mKeyError\u001b[0m                                  Traceback (most recent call last)",
      "\u001b[0;32m<ipython-input-8-077d4ec17feb>\u001b[0m in \u001b[0;36m<module>\u001b[0;34m()\u001b[0m\n\u001b[0;32m----> 1\u001b[0;31m \u001b[0mdegree_dict\u001b[0m \u001b[0;34m=\u001b[0m \u001b[0mdict\u001b[0m\u001b[0;34m(\u001b[0m\u001b[0mgraph_dict\u001b[0m\u001b[0;34m[\u001b[0m\u001b[0;34m\"the-hunting-life\"\u001b[0m\u001b[0;34m]\u001b[0m\u001b[0;34m.\u001b[0m\u001b[0mdegree\u001b[0m\u001b[0;34m)\u001b[0m\u001b[0;34m\u001b[0m\u001b[0;34m\u001b[0m\u001b[0m\n\u001b[0m",
      "\u001b[0;31mKeyError\u001b[0m: 'the-hunting-life'"
     ]
    }
   ],
   "source": [
    "degree_dict = dict(graph_dict[\"the-hunting-life\"].degree)"
   ]
  },
  {
   "cell_type": "code",
   "execution_count": 9,
   "metadata": {},
   "outputs": [],
   "source": [
    "# Quick helper function to show a dictionary sorted by its value\n",
    "def sort_dict(d,ascending=False):\n",
    "    # convert the dictionary to a pandas \"series\" (effectively a dataframe column divorced from a dataframe)\n",
    "    series = pd.Series(d)\n",
    "    # return this series, sorted\n",
    "    return series.keys().tolist()\n",
    "    #return series.sort_values(ascending=ascending)"
   ]
  },
  {
   "cell_type": "code",
   "execution_count": 162,
   "metadata": {},
   "outputs": [
    {
     "data": {
      "text/plain": [
       "['moisture',\n",
       " 'drenched',\n",
       " 'lightning',\n",
       " 'lamented',\n",
       " '31st',\n",
       " 'limpid',\n",
       " 'lightening',\n",
       " 'intensity',\n",
       " 'clashed',\n",
       " 'pike-torn',\n",
       " 'grove',\n",
       " 'strident',\n",
       " 'slurred',\n",
       " 'breathy',\n",
       " 'querulous',\n",
       " 'strangulated',\n",
       " 'neighing',\n",
       " 'buffeting',\n",
       " 'ballet',\n",
       " 'attitude',\n",
       " 'leaf-shaped',\n",
       " 'wavy',\n",
       " 'pointing',\n",
       " 'primeval',\n",
       " 'tree-fern',\n",
       " 'jungle',\n",
       " 'loss',\n",
       " 'disced',\n",
       " 'sucker',\n",
       " 'elliptical',\n",
       " 'ladybird',\n",
       " 'white-painted',\n",
       " 'leant',\n",
       " 'rung',\n",
       " 'sequence',\n",
       " 'tap',\n",
       " 'distinguished',\n",
       " 'learns',\n",
       " 'emphatically',\n",
       " 'extent',\n",
       " 'aggressively',\n",
       " 'sounding-board',\n",
       " 'prolonged',\n",
       " 'resemblance',\n",
       " 'resonance',\n",
       " 'undoubtedly',\n",
       " 'mechanically',\n",
       " 'produced',\n",
       " 'stuttering',\n",
       " 'syrinx',\n",
       " 'explain',\n",
       " 'incredible',\n",
       " 'loudness',\n",
       " 'warbler',\n",
       " 'chiff-chaffs',\n",
       " 'plantation',\n",
       " 'fumed',\n",
       " 'indentation',\n",
       " 'hen',\n",
       " 'displaying',\n",
       " 'cartwheel',\n",
       " 'windmill',\n",
       " 'waved',\n",
       " 'tentacle',\n",
       " 'april',\n",
       " 'chemical',\n",
       " 'bird-song',\n",
       " 'wheatear',\n",
       " 'hardly',\n",
       " 'fanatic',\n",
       " 'fish-like',\n",
       " 'husk',\n",
       " 'sing',\n",
       " 'being',\n",
       " 'hoop',\n",
       " 'red-hot',\n",
       " 'sears',\n",
       " 'skim',\n",
       " 'meeting',\n",
       " 'softness',\n",
       " 'stealth',\n",
       " 'cloth',\n",
       " 'avid',\n",
       " 'accelerating',\n",
       " 'bat',\n",
       " 'curlew-call',\n",
       " 'lemuring',\n",
       " 'noctule',\n",
       " 'fuzzy',\n",
       " 'furry',\n",
       " 'chittering',\n",
       " 'piglet',\n",
       " 'dispersing',\n",
       " 'arden',\n",
       " 'texture',\n",
       " 'initial',\n",
       " 'rebound',\n",
       " 'softer',\n",
       " 'reply',\n",
       " 'quee',\n",
       " 'shivering',\n",
       " 'greenfinches',\n",
       " 'droning',\n",
       " 'drowsily',\n",
       " 'leaf-mould',\n",
       " 'dust-moted',\n",
       " 'trellis',\n",
       " 'react',\n",
       " 'extravagantly',\n",
       " 'hawfinch',\n",
       " 'masterful',\n",
       " 'prow',\n",
       " 'icebreaker',\n",
       " 'emphatic',\n",
       " 'tsink',\n",
       " 'pop',\n",
       " 'combined',\n",
       " 'belligerent-looking',\n",
       " 'timid',\n",
       " 'mingled',\n",
       " 'sulphur',\n",
       " 'unwearying',\n",
       " 'sings',\n",
       " 'insane',\n",
       " 'concentration',\n",
       " 'orange-yellow',\n",
       " 'bead',\n",
       " 'pinned',\n",
       " 'tiresome',\n",
       " 'lecherous',\n",
       " 'forever',\n",
       " 'bell-like',\n",
       " 'ululation',\n",
       " 'mate',\n",
       " 'identified',\n",
       " 'possibly',\n",
       " 'departs',\n",
       " 'sorrow',\n",
       " 'collect',\n",
       " 'possessed',\n",
       " 'cherry',\n",
       " 'brim',\n",
       " 'sway',\n",
       " 'previous',\n",
       " 'backed',\n",
       " 'carrion',\n",
       " 'wreathed',\n",
       " 'bloodstained',\n",
       " 'grim',\n",
       " 'skull-cracking',\n",
       " 'eye-piercing',\n",
       " 'certainty',\n",
       " 'irresistible',\n",
       " 'dowser',\n",
       " 'hopeless',\n",
       " 'gloomed',\n",
       " 'bad',\n",
       " 'toneless',\n",
       " 'vase',\n",
       " 'green-black',\n",
       " 'chestnut-bronze',\n",
       " 'clambered',\n",
       " 'cautiously',\n",
       " 'fence-post',\n",
       " 'uncoil',\n",
       " 'pang',\n",
       " 'stir',\n",
       " 'chance',\n",
       " 'tightly',\n",
       " 'tremble',\n",
       " 'accept',\n",
       " 'resigning',\n",
       " 'savagery',\n",
       " 'crumbles']"
      ]
     },
     "execution_count": 162,
     "metadata": {},
     "output_type": "execute_result"
    }
   ],
   "source": [
    "sort_dict(degree_dict)[5000:]"
   ]
  },
  {
   "cell_type": "code",
   "execution_count": 99,
   "metadata": {},
   "outputs": [
    {
     "data": {
      "image/png": "[encoded data removed]",
      "text/plain": [
       "<Figure size 1152x360 with 1 Axes>"
      ]
     },
     "metadata": {
      "needs_background": "light"
     },
     "output_type": "display_data"
    }
   ],
   "source": [
    "with open('../corpora/peregrine/the-hunting-life.txt') as file:\n",
    "    filetext = file.read().lower().split()\n",
    "words = [word for word in filetext if word not in stop_words] \n",
    "freqdist = nltk.FreqDist(words)\n",
    "plt.figure(figsize=(16,5))\n",
    "freqdist.plot(100)"
   ]
  },
  {
   "cell_type": "code",
   "execution_count": 100,
   "metadata": {},
   "outputs": [
    {
     "data": {
      "text/plain": [
       "like              0.104002\n",
       "a                 0.083897\n",
       "hawk              0.068239\n",
       "wing              0.066499\n",
       "sky               0.052581\n",
       "peregrine         0.052581\n",
       "flew              0.049874\n",
       "tree              0.043108\n",
       "bird              0.042915\n",
       "wind              0.042915\n",
       "field             0.042722\n",
       "long              0.041949\n",
       "away              0.040982\n",
       "back              0.039049\n",
       "sun               0.037889\n",
       "eye               0.037502\n",
       "air               0.035956\n",
       "water             0.034989\n",
       "white             0.034216\n",
       "light             0.033443\n",
       "head              0.033250\n",
       "river             0.031123\n",
       "one               0.030930\n",
       "wood              0.029190\n",
       "dark              0.029190\n",
       "high              0.028610\n",
       "foot              0.028610\n",
       "slowly            0.028417\n",
       "still             0.028417\n",
       "gull              0.028030\n",
       "                    ...   \n",
       "herd              0.000387\n",
       "slow-burning      0.000387\n",
       "innocent          0.000387\n",
       "smeared           0.000387\n",
       "wing-patches      0.000387\n",
       "eye-stripes       0.000387\n",
       "straw-coloured    0.000387\n",
       "deciding          0.000387\n",
       "tangy             0.000387\n",
       "dib               0.000387\n",
       "brambling         0.000387\n",
       "winish            0.000387\n",
       "drum              0.000387\n",
       "elastic           0.000387\n",
       "tight-wound       0.000387\n",
       "dab               0.000387\n",
       "ice-needles       0.000387\n",
       "grating           0.000387\n",
       "vehemence         0.000387\n",
       "rocketing         0.000387\n",
       "inaudible         0.000387\n",
       "irresistible      0.000193\n",
       "agile             0.000193\n",
       "pretence          0.000193\n",
       "thinner           0.000193\n",
       "unspannable       0.000193\n",
       "cruel-looking     0.000193\n",
       "cunning           0.000193\n",
       "evil              0.000193\n",
       "melt              0.000193\n",
       "Length: 5174, dtype: float64"
      ]
     },
     "execution_count": 100,
     "metadata": {},
     "output_type": "execute_result"
    }
   ],
   "source": [
    "# This is the same data except normalized by the total number of edges\n",
    "degree_centrality = nx.degree_centrality(graph_dict[\"the-hunting-life\"])\n",
    "\n",
    "# Show\n",
    "sort_dict(degree_centrality)"
   ]
  },
  {
   "cell_type": "code",
   "execution_count": 101,
   "metadata": {
    "scrolled": true
   },
   "outputs": [],
   "source": [
    "from networkx import *\n",
    "from networkx.algorithms import *\n",
    "x = []\n",
    "y = []\n",
    "z = []\n",
    "for txt in graph_dict.keys():\n",
    "    #degree_histogram(graph_dict[txt])\n",
    "    x.append(txt)\n",
    "    graph = graph_dict[txt]\n",
    "    y.append(density(graph))\n",
    "    #z.append(max_clique(graph_dict[txt]))"
   ]
  },
  {
   "cell_type": "code",
   "execution_count": 105,
   "metadata": {
    "scrolled": true
   },
   "outputs": [
    {
     "data": {
      "text/plain": [
       "<BarContainer object of 88 artists>"
      ]
     },
     "execution_count": 105,
     "metadata": {},
     "output_type": "execute_result"
    },
    {
     "data": {
      "image/png": "[encoded data removed]",
      "text/plain": [
       "<Figure size 288x1224 with 1 Axes>"
      ]
     },
     "metadata": {
      "needs_background": "light"
     },
     "output_type": "display_data"
    }
   ],
   "source": [
    "plt.figure(figsize = (4,17))\n",
    "plt.barh(x,y)"
   ]
  },
  {
   "cell_type": "code",
   "execution_count": 1,
   "metadata": {},
   "outputs": [],
   "source": [
    "def concordance(text_folder,filename,word,width=100,lines=1000):\n",
    "    # Get the path\n",
    "    text_path = os.path.join(text_folder, filename)\n",
    "    print(text_path)\n",
    "\n",
    "    # Open the file\n",
    "    with open(text_path) as file:\n",
    "        text_txt=file.read()\n",
    "\n",
    "    # make nltk version of the text (useful for concordance)\n",
    "    import nltk\n",
    "    text_words = nltk.word_tokenize(text_txt)\n",
    "    text_nltk = nltk.text.Text(text_words)\n",
    "\n",
    "    # get concordance\n",
    "    text_nltk.concordance(word,width=width,lines=lines)\n",
    "    "
   ]
  },
  {
   "cell_type": "code",
   "execution_count": 6,
   "metadata": {},
   "outputs": [
    {
     "ename": "NameError",
     "evalue": "name 'os' is not defined",
     "output_type": "error",
     "traceback": [
      "\u001b[0;31m---------------------------------------------------------------------------\u001b[0m",
      "\u001b[0;31mNameError\u001b[0m                                 Traceback (most recent call last)",
      "\u001b[0;32m<ipython-input-6-fa566b75067a>\u001b[0m in \u001b[0;36m<module>\u001b[0;34m\u001b[0m\n\u001b[0;32m----> 1\u001b[0;31m \u001b[0mconcordance\u001b[0m\u001b[0;34m(\u001b[0m\u001b[0mtext_folder\u001b[0m\u001b[0;34m,\u001b[0m\u001b[0;34m'the-hunting-life.txt'\u001b[0m\u001b[0;34m,\u001b[0m\u001b[0;34m\"eye\"\u001b[0m\u001b[0;34m)\u001b[0m\u001b[0;34m\u001b[0m\u001b[0;34m\u001b[0m\u001b[0m\n\u001b[0m",
      "\u001b[0;32m<ipython-input-1-7b2863bc0253>\u001b[0m in \u001b[0;36mconcordance\u001b[0;34m(text_folder, filename, word, width, lines)\u001b[0m\n\u001b[1;32m      1\u001b[0m \u001b[0;32mdef\u001b[0m \u001b[0mconcordance\u001b[0m\u001b[0;34m(\u001b[0m\u001b[0mtext_folder\u001b[0m\u001b[0;34m,\u001b[0m\u001b[0mfilename\u001b[0m\u001b[0;34m,\u001b[0m\u001b[0mword\u001b[0m\u001b[0;34m,\u001b[0m\u001b[0mwidth\u001b[0m\u001b[0;34m=\u001b[0m\u001b[0;36m100\u001b[0m\u001b[0;34m,\u001b[0m\u001b[0mlines\u001b[0m\u001b[0;34m=\u001b[0m\u001b[0;36m1000\u001b[0m\u001b[0;34m)\u001b[0m\u001b[0;34m:\u001b[0m\u001b[0;34m\u001b[0m\u001b[0;34m\u001b[0m\u001b[0m\n\u001b[1;32m      2\u001b[0m     \u001b[0;31m# Get the path\u001b[0m\u001b[0;34m\u001b[0m\u001b[0;34m\u001b[0m\u001b[0;34m\u001b[0m\u001b[0m\n\u001b[0;32m----> 3\u001b[0;31m     \u001b[0mtext_path\u001b[0m \u001b[0;34m=\u001b[0m \u001b[0mos\u001b[0m\u001b[0;34m.\u001b[0m\u001b[0mpath\u001b[0m\u001b[0;34m.\u001b[0m\u001b[0mjoin\u001b[0m\u001b[0;34m(\u001b[0m\u001b[0mtext_folder\u001b[0m\u001b[0;34m,\u001b[0m \u001b[0mfilename\u001b[0m\u001b[0;34m)\u001b[0m\u001b[0;34m\u001b[0m\u001b[0;34m\u001b[0m\u001b[0m\n\u001b[0m\u001b[1;32m      4\u001b[0m     \u001b[0mprint\u001b[0m\u001b[0;34m(\u001b[0m\u001b[0mtext_path\u001b[0m\u001b[0;34m)\u001b[0m\u001b[0;34m\u001b[0m\u001b[0;34m\u001b[0m\u001b[0m\n\u001b[1;32m      5\u001b[0m \u001b[0;34m\u001b[0m\u001b[0m\n",
      "\u001b[0;31mNameError\u001b[0m: name 'os' is not defined"
     ]
    }
   ],
   "source": [
    "concordance(text_folder,'the-hunting-life.txt',\"eye\")"
   ]
  },
  {
   "cell_type": "code",
   "execution_count": null,
   "metadata": {},
   "outputs": [],
   "source": []
  }
 ],
 "metadata": {
  "kernelspec": {
   "display_name": "Python 3",
   "language": "python",
   "name": "python3"
  },
  "language_info": {
   "codemirror_mode": {
    "name": "ipython",
    "version": 3
   },
   "file_extension": ".py",
   "mimetype": "text/x-python",
   "name": "python",
   "nbconvert_exporter": "python",
   "pygments_lexer": "ipython3",
   "version": "3.7.3"
  }
 },
 "nbformat": 4,
 "nbformat_minor": 2
}
