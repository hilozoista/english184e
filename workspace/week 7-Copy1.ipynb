{
 "cells": [
  {
   "cell_type": "markdown",
   "metadata": {},
   "source": [
    "Week 7: Graphing Gertrude Stein\n",
    "\n",
    "I've built a method here for making graphs of any text, helped by the visualization method developed by Ryan.\n",
    "\n",
    "One of the metrics I take a look at is the \"density\" metric, which is defined as (2*the number of edges) divided by (the number of nodes * number of nodes -1). In other words, it is the number of edges divided by the maximum number of edges that could be made between all the nodes in the graph.\n",
    "\n",
    "I would guess from this definition that the more repetitive texts would be more \"dense,\" but that texts which circled exclusively around certain repeated words, such as \"sentences and paragraphs,\" wouldn't be as dense. Longer texts would probably be denser, as they would have more time to form connections between words."
   ]
  },
  {
   "cell_type": "code",
   "execution_count": 24,
   "metadata": {},
   "outputs": [],
   "source": [
    "import json\n",
    "import numpy as np\n",
    "import pandas as pd\n",
    "import networkx as nx\n",
    "import matplotlib.pyplot as plt\n",
    "%matplotlib inline"
   ]
  },
  {
   "cell_type": "code",
   "execution_count": 25,
   "metadata": {},
   "outputs": [],
   "source": [
    "#thanks to ryan for this method, which I've slightly modified\n",
    "def draw_graph3(networkx_graph,notebook=True,output_filename='graph.html',show_buttons=True,only_physics_buttons=False):\n",
    "    \"\"\"\n",
    "    This function accepts a networkx graph object,\n",
    "    converts it to a pyvis network object preserving its node and edge attributes,\n",
    "    and both returns and saves a dynamic network visualization.\n",
    "    \n",
    "    Valid node attributes include:\n",
    "        \"size\", \"value\", \"title\", \"x\", \"y\", \"label\", \"color\".\n",
    "        \n",
    "        (For more info: https://pyvis.readthedocs.io/en/latest/documentation.html#pyvis.network.Network.add_node)\n",
    "        \n",
    "    Valid edge attributes include:\n",
    "        \"arrowStrikethrough\", \"hidden\", \"physics\", \"title\", \"value\", \"width\"\n",
    "        \n",
    "        (For more info: https://pyvis.readthedocs.io/en/latest/documentation.html#pyvis.network.Network.add_edge)\n",
    "        \n",
    "    \n",
    "    Args:\n",
    "        networkx_graph: The graph to convert and display\n",
    "        notebook: Display in Jupyter?\n",
    "        output_filename: Where to save the converted network\n",
    "        show_buttons: Show buttons in saved version of network?\n",
    "        only_physics_buttons: Show only buttons controlling physics of network?\n",
    "    \"\"\"\n",
    "    \n",
    "    # import\n",
    "    from pyvis import network as net\n",
    "    \n",
    "    # make a pyvis network\n",
    "    pyvis_graph = net.Network(notebook=notebook)\n",
    "    \n",
    "    # for each node and its attributes in the networkx graph\n",
    "    for node,node_attrs in networkx_graph.nodes(data=True):\n",
    "        pyvis_graph.add_node(node,**node_attrs)\n",
    "        \n",
    "    # for each edge and its attributes in the networkx graph\n",
    "    for source,target,edge_attrs in networkx_graph.edges(data=True):\n",
    "        # if value/width not specified directly, and weight is specified, set 'value' to 'weight'\n",
    "        if not 'value' in edge_attrs and not 'width' in edge_attrs and 'weight' in edge_attrs:\n",
    "            # place at key 'value' the weight of the edge\n",
    "            edge_attrs['value']=edge_attrs['weight']\n",
    "        # add the edge\n",
    "        pyvis_graph.add_edge(source,target,**edge_attrs)\n",
    "        \n",
    "    # turn buttons on\n",
    "    if show_buttons:\n",
    "        if only_physics_buttons:\n",
    "            pyvis_graph.show_buttons(filter_=['physics'])\n",
    "        else:\n",
    "            pyvis_graph.show_buttons()\n",
    "    pyvis_graph.set_edge_smooth('dynamic')\n",
    "    # return and also save\n",
    "    return pyvis_graph.show(output_filename)"
   ]
  },
  {
   "cell_type": "code",
   "execution_count": 26,
   "metadata": {},
   "outputs": [],
   "source": [
    "import nltk\n",
    "from nltk.corpus import stopwords\n",
    "from nltk.tokenize import RegexpTokenizer\n",
    "tokenizer = RegexpTokenizer(r'\\w+')\n",
    "import pyvis\n",
    "from pyvis.network import Network\n",
    "    \n",
    "def makegraph(fn, stopped):\n",
    "    #stopped=0 does nothing\n",
    "    #stopped=1 will take out stopwords from nltk's list.\n",
    "    #stopped=2 will exclude all words that are not Nouns, Verbs, or Adjectives.\n",
    "\n",
    "    lemma = nltk.wordnet.WordNetLemmatizer()\n",
    "    \n",
    "    stop_words = stopwords.words('english')\n",
    "    stop_words.append('is')\n",
    "    parts = ['N','V','A']\n",
    "    colordict = {}\n",
    "    colordict['N'] = 'green'\n",
    "    colordict['V'] = 'red'\n",
    "    colordict['A'] = 'pink'\n",
    "    colordict['D'] = '#c0c1c4'\n",
    "    colordict['P'] = 'yellow'\n",
    "    G = nx.Graph()\n",
    "    with open('../corpora/gertrude/'+fn) as file:\n",
    "        filetext = file.read().lower()\n",
    "    sents_unstripped = nltk.sent_tokenize(filetext)\n",
    "    sents_unstopped = [tokenizer.tokenize(s) for s in sents_unstripped]\n",
    "    sents = []\n",
    "    for s in sents_unstopped:\n",
    "        st = []\n",
    "        for w in s:\n",
    "            if(stopped==1):\n",
    "                if w not in stop_words:\n",
    "                    st.append(lemma.lemmatize(w))\n",
    "            else:\n",
    "                st.append(lemma.lemmatize(w))\n",
    "        sents.append(st)   \n",
    "        \n",
    "    sent_holder = []    \n",
    "    part_dict = {}\n",
    "    for s in sents:\n",
    "        tags = nltk.pos_tag(s)\n",
    "        sholder = []\n",
    "        for tag in tags:\n",
    "            if(stopped==2):\n",
    "                if(tag[1][:1] in parts):\n",
    "                    sholder.append(tag[0])\n",
    "            part_dict[tag[0]] = tag[1]\n",
    "        if(len(sholder)!=0):\n",
    "            sent_holder.append(sholder)\n",
    "    if(stopped==2):\n",
    "        sents = sent_holder\n",
    "        \n",
    "    num_sents = len(sents)\n",
    "    storelast = \"\"\n",
    "    for s in sents:\n",
    "        bigs = list(nltk.bigrams(s))\n",
    "        if(len(bigs)>0):\n",
    "            if sents.index(s)>0:\n",
    "                G.add_edge(storelast, bigs[0][0])\n",
    "            for pair in bigs:\n",
    "                p0 = part_dict[pair[0]][:1]\n",
    "                p1 = part_dict[pair[1]][:1]\n",
    "                color0 = '#8c8c8c'\n",
    "                color1 = '#8c8c8c'\n",
    "                size0 = 4\n",
    "                size1 = 4\n",
    "                if p0 in colordict.keys():\n",
    "                    color0 = colordict[p0]\n",
    "                    size0 = 15\n",
    "                if p1 in colordict.keys():\n",
    "                    color1 = colordict[p1]\n",
    "                    size1 = 15\n",
    "                G.add_node(pair[0],color=color0, size=size0)\n",
    "                G.add_node(pair[1],color=color1, size=size1)\n",
    "                G.add_edge(pair[0], pair[1],color=\"grey\")\n",
    "                if sents.index(s)<num_sents-1:\n",
    "                    storelast = bigs[len(bigs)-1][1]\n",
    "    return G"
   ]
  },
  {
   "cell_type": "code",
   "execution_count": 27,
   "metadata": {},
   "outputs": [],
   "source": [
    "import os\n",
    "filenames = os.listdir('../corpora/gertrude/')\n",
    "graph_dict = {}\n",
    "for f in filenames:\n",
    "    if(f[-3:] == \"txt\"):\n",
    "        graph_dict[f[:-4]]=makegraph(f,1)"
   ]
  },
  {
   "cell_type": "code",
   "execution_count": 33,
   "metadata": {
    "scrolled": true
   },
   "outputs": [],
   "source": [
    "from networkx import *\n",
    "from networkx.algorithms import *\n",
    "x = []\n",
    "y = []\n",
    "z = []\n",
    "for txt in graph_dict.keys():\n",
    "    #degree_histogram(graph_dict[txt])\n",
    "    x.append(txt)\n",
    "    graph = graph_dict[txt]\n",
    "    y.append(density(graph))\n",
    "    #z.append(max_clique(graph_dict[txt]))"
   ]
  },
  {
   "cell_type": "code",
   "execution_count": 34,
   "metadata": {
    "scrolled": true
   },
   "outputs": [
    {
     "data": {
      "text/plain": [
       "<BarContainer object of 18 artists>"
      ]
     },
     "execution_count": 34,
     "metadata": {},
     "output_type": "execute_result"
    },
    {
     "data": {
      "image/png": "[encoded data removed]",
      "text/plain": [
       "<Figure size 432x288 with 1 Axes>"
      ]
     },
     "metadata": {
      "needs_background": "light"
     },
     "output_type": "display_data"
    }
   ],
   "source": [
    "plt.barh(x,y)"
   ]
  },
  {
   "cell_type": "code",
   "execution_count": 35,
   "metadata": {
    "scrolled": true
   },
   "outputs": [
    {
     "ename": "IndexError",
     "evalue": "list index out of range",
     "output_type": "error",
     "traceback": [
      "\u001b[0;31m---------------------------------------------------------------------------\u001b[0m",
      "\u001b[0;31mIndexError\u001b[0m                                Traceback (most recent call last)",
      "\u001b[0;32m<ipython-input-35-926ea97f136b>\u001b[0m in \u001b[0;36m<module>\u001b[0;34m()\u001b[0m\n\u001b[1;32m      1\u001b[0m \u001b[0;31m# These are the maximal cliques\u001b[0m\u001b[0;34m\u001b[0m\u001b[0;34m\u001b[0m\u001b[0;34m\u001b[0m\u001b[0m\n\u001b[1;32m      2\u001b[0m \u001b[0;32mfor\u001b[0m \u001b[0mi\u001b[0m \u001b[0;32min\u001b[0m \u001b[0mrange\u001b[0m\u001b[0;34m(\u001b[0m\u001b[0mlen\u001b[0m\u001b[0;34m(\u001b[0m\u001b[0mx\u001b[0m\u001b[0;34m)\u001b[0m\u001b[0;34m)\u001b[0m\u001b[0;34m:\u001b[0m\u001b[0;34m\u001b[0m\u001b[0;34m\u001b[0m\u001b[0m\n\u001b[0;32m----> 3\u001b[0;31m     \u001b[0mprint\u001b[0m\u001b[0;34m(\u001b[0m\u001b[0mx\u001b[0m\u001b[0;34m[\u001b[0m\u001b[0mi\u001b[0m\u001b[0;34m]\u001b[0m\u001b[0;34m+\u001b[0m\u001b[0;34m\": \"\u001b[0m\u001b[0;34m+\u001b[0m\u001b[0mstr\u001b[0m\u001b[0;34m(\u001b[0m\u001b[0mz\u001b[0m\u001b[0;34m[\u001b[0m\u001b[0mi\u001b[0m\u001b[0;34m]\u001b[0m\u001b[0;34m)\u001b[0m\u001b[0;34m)\u001b[0m\u001b[0;34m\u001b[0m\u001b[0;34m\u001b[0m\u001b[0m\n\u001b[0m",
      "\u001b[0;31mIndexError\u001b[0m: list index out of range"
     ]
    }
   ],
   "source": [
    "# These are the maximal cliques\n",
    "for i in range(len(x)):\n",
    "    print(x[i]+\": \"+str(z[i]))"
   ]
  },
  {
   "cell_type": "code",
   "execution_count": 36,
   "metadata": {
    "scrolled": true
   },
   "outputs": [
    {
     "data": {
      "text/html": [
       "\n",
       "        <iframe\n",
       "            width=\"500px\"\n",
       "            height=\"500px\"\n",
       "            src=\"graph.html\"\n",
       "            frameborder=\"0\"\n",
       "            allowfullscreen\n",
       "        ></iframe>\n",
       "        "
      ],
      "text/plain": [
       "<IPython.lib.display.IFrame at 0x1a297962e8>"
      ]
     },
     "execution_count": 36,
     "metadata": {},
     "output_type": "execute_result"
    }
   ],
   "source": [
    "draw_graph3(graph_dict[\"oct-30\"])"
   ]
  },
  {
   "cell_type": "code",
   "execution_count": 143,
   "metadata": {
    "scrolled": true
   },
   "outputs": [
    {
     "data": {
      "text/html": [
       "\n",
       "        <iframe\n",
       "            width=\"500px\"\n",
       "            height=\"500px\"\n",
       "            src=\"graph.html\"\n",
       "            frameborder=\"0\"\n",
       "            allowfullscreen\n",
       "        ></iframe>\n",
       "        "
      ],
      "text/plain": [
       "<IPython.lib.display.IFrame at 0x1a21f309e8>"
      ]
     },
     "execution_count": 143,
     "metadata": {},
     "output_type": "execute_result"
    }
   ],
   "source": [
    "draw_graph3(graph_dict[\"sentences-and-paragraphs\"])"
   ]
  },
  {
   "cell_type": "code",
   "execution_count": 145,
   "metadata": {},
   "outputs": [
    {
     "data": {
      "text/html": [
       "\n",
       "        <iframe\n",
       "            width=\"500px\"\n",
       "            height=\"500px\"\n",
       "            src=\"graph.html\"\n",
       "            frameborder=\"0\"\n",
       "            allowfullscreen\n",
       "        ></iframe>\n",
       "        "
      ],
      "text/plain": [
       "<IPython.lib.display.IFrame at 0x1a1c221ba8>"
      ]
     },
     "execution_count": 145,
     "metadata": {},
     "output_type": "execute_result"
    }
   ],
   "source": [
    "draw_graph3(graph_dict[\"picasso\"])"
   ]
  },
  {
   "cell_type": "code",
   "execution_count": 160,
   "metadata": {},
   "outputs": [
    {
     "data": {
      "text/html": [
       "\n",
       "        <iframe\n",
       "            width=\"500px\"\n",
       "            height=\"500px\"\n",
       "            src=\"graph.html\"\n",
       "            frameborder=\"0\"\n",
       "            allowfullscreen\n",
       "        ></iframe>\n",
       "        "
      ],
      "text/plain": [
       "<IPython.lib.display.IFrame at 0x1a2fc64390>"
      ]
     },
     "execution_count": 160,
     "metadata": {},
     "output_type": "execute_result"
    }
   ],
   "source": [
    "draw_graph3(graph_dict[\"susie-asado\"])"
   ]
  },
  {
   "cell_type": "markdown",
   "metadata": {},
   "source": [
    "As expected, two highly repetitive texts, \"picasso\" and \"matisse,\" have a high density. They are also relatively short. A sample paragraph from each text gives you a sense of their graph-density:\n",
    "> This one was working and something was coming then, something was coming out of this one then. This one was one and always there was something coming out of this one and always there had been something coming out of this one. This one had never been one not having something coming out of this one. This one was one having something coming out of this one. This one had been one whom some were following. This one was one whom some were following. This one was being one whom some were following. This one was one who was working.\n",
    "\n",
    "(\"Picasso\")\n",
    "\n",
    "> He certainly was clearly expressing something, certainly sometime any one might come to know that of him. Very many did come to know it of him that he was clearly expressing what he was expressing. He was a great one. Any one might come to know that of him. Very many did some to know that of him. Some who came to know that of him, that he was a great one, that he was clearly expressing something, came then to be certain that he was not greatly expressing something being struggling. Certainly he was expressing something being struggling. Any one could be certain that he was expressing something being struggling. Some were certain that he was greatly expressing this thing. Some were certain that he was not greatly expressing this thing. Every one could come to be certain that he was a great man. Any one could come to be certain that he was clearly expressing something.\n",
    "\n",
    "(\"Matisse\")\n",
    "\n",
    "On the other hand, \"rooms,\" which is not so repetitive and the longest text, has the lowest density.\n",
    "\n",
    "Still, \"sentences and paragraphs\" has a pretty low density for a relatively repetitive text. It does have quite a few connections to the word \"sentences\" but outside of that, many of the phrases appear to be disjunctive, unrelated semantically.\n",
    "\n",
    "It's interesting that \"susie asado\" has a rather high density though it graph doesn't look particularly well-connected. It is quite repetitive, but it's hard for me to reconcile the picture with the numerical data and my intuition of how dense the text is.\n",
    "\n",
    "\"roast beef\" from \"food\" looks more dense to me, but its density metric is quite a bit lower than that of \"susie asado.\" Then again, my experience of reading the text is that it is less repetitive overall.\n",
    "\n",
    "Something the graphs don't quite capture yet is the fact that the insistence of the \"-ing\" suffix can make some texts seem more repetitive than the computer thinks they are; it would be better perhaps to color the graphs on the basis of this piece of inflection. The lemmatization in my function also isn't really serving my purposes right now, and the choice to color nouns, verbs and adjectives might be changed to reflect sonic attributes that come from certain morphological objects (\"-ing,\" \"-y\", etc.)"
   ]
  }
 ],
 "metadata": {
  "kernelspec": {
   "display_name": "Python 3",
   "language": "python",
   "name": "python3"
  },
  "language_info": {
   "codemirror_mode": {
    "name": "ipython",
    "version": 3
   },
   "file_extension": ".py",
   "mimetype": "text/x-python",
   "name": "python",
   "nbconvert_exporter": "python",
   "pygments_lexer": "ipython3",
   "version": "3.7.1"
  }
 },
 "nbformat": 4,
 "nbformat_minor": 2
}
