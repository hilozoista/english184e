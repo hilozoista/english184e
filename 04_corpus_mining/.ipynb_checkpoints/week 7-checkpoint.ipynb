{
 "cells": [
  {
   "cell_type": "code",
   "execution_count": 1,
   "metadata": {},
   "outputs": [],
   "source": [
    "import json\n",
    "import numpy as np\n",
    "import pandas as pd\n",
    "import networkx as nx\n",
    "import matplotlib.pyplot as plt\n",
    "%matplotlib inline"
   ]
  },
  {
   "cell_type": "code",
   "execution_count": 61,
   "metadata": {},
   "outputs": [],
   "source": [
    "def draw_graph2(g):\n",
    "    from pyvis import network as net\n",
    "    G = net.Network(notebook=True)\n",
    "    G.from_nx(g)\n",
    "    G.show_buttons()\n",
    "    #G.barnes_hut(spring_length=50)\n",
    "    #G.force_atlas_2based(overlap=10)\n",
    "    return G.show('graph.html')"
   ]
  },
  {
   "cell_type": "code",
   "execution_count": 26,
   "metadata": {},
   "outputs": [],
   "source": [
    "def filter_min(g,min_degree = 2):\n",
    "    # make an empty list which will store all the nodes we want to remove\n",
    "    copy = g\n",
    "    nodes_to_remove = []\n",
    "    \n",
    "    # get the dictionary of node->degree\n",
    "    degree_dict=dict(copy.degree)\n",
    "    \n",
    "    # loop over the nodes\n",
    "    for node in copy.nodes():\n",
    "        degree = degree_dict.get(node,0)\n",
    "        if degree < min_degree:\n",
    "            nodes_to_remove.append(node)\n",
    "            \n",
    "    # remove from network\n",
    "    copy.remove_nodes_from(nodes_to_remove)\n",
    "    \n",
    "    return copy"
   ]
  },
  {
   "cell_type": "code",
   "execution_count": 27,
   "metadata": {},
   "outputs": [],
   "source": [
    "def filter_max(g,max_degree = 5):\n",
    "    # make an empty list which will store all the nodes we want to remove\n",
    "    copy = g\n",
    "    nodes_to_remove = []\n",
    "    \n",
    "    # get the dictionary of node->degree\n",
    "    degree_dict=dict(copy.degree)\n",
    "    \n",
    "    # loop over the nodes\n",
    "    for node in copy.nodes():\n",
    "        degree = degree_dict.get(node,0)\n",
    "        if degree > max_degree:\n",
    "            nodes_to_remove.append(node)\n",
    "            \n",
    "    # remove from network\n",
    "    copy.remove_nodes_from(nodes_to_remove)\n",
    "    \n",
    "    return copy"
   ]
  },
  {
   "cell_type": "code",
   "execution_count": 77,
   "metadata": {},
   "outputs": [
    {
     "data": {
      "text/html": [
       "\n",
       "        <iframe\n",
       "            width=\"500px\"\n",
       "            height=\"500px\"\n",
       "            src=\"graph.html\"\n",
       "            frameborder=\"0\"\n",
       "            allowfullscreen\n",
       "        ></iframe>\n",
       "        "
      ],
      "text/plain": [
       "<IPython.lib.display.IFrame at 0x1a274f1860>"
      ]
     },
     "execution_count": 77,
     "metadata": {},
     "output_type": "execute_result"
    }
   ],
   "source": [
    "import nltk\n",
    "from nltk.corpus import stopwords\n",
    "from nltk.tokenize import RegexpTokenizer\n",
    "tokenizer = RegexpTokenizer(r'\\w+')\n",
    "import pyvis\n",
    "from pyvis.network import Network\n",
    "\n",
    "stop_words = stopwords.words('english')\n",
    "G = nx.Graph()\n",
    "colordict = {}\n",
    "colordict['N'] = '#ff0000'\n",
    "colordict['V'] = '#84c5d0'\n",
    "colordict['A'] = '#ebc542'\n",
    "\n",
    "#paragraph = \"What was the use of not leaving it there where it would hang what was the use if there was no chance of ever seeing it come there and show that it was handsome and right in the way it showed it. The lesson is to learn that it does show it, that it shows it and that nothing, that there is nothing, that there is no more to do about it and just so much more is there plenty of reason for making an exchange.\"\n",
    "#paragraph = \"A widow in a wise veil and more garments shows that shadows are even. It addresses no more, it shadows the stage and learning. A regular arrangement, the severest and the most preserved is that which has the arrangement not more than always authorised. A suitable establishment, well housed, practical, patient and staring, a suitable bedding, very suitable and not more particularly than complaining, anything suitable is so necessary. A fact is that when the direction is just like that, no more, longer, sudden and at the same time not any sofa, the main action is that without a blaming there is no custody.Practice measurement, practice the sign that means that really means a necessary betrayal, in showing that there is wearing. Hope, what is a spectacle, a spectacle is the resemblance between the circular side place and nothing else, nothing else. To choose it is ended, it is actual and more than that it has it certainly has the same treat, and a seat all that is practiced and more easily much more easily ordinarily. Pick a barn, a whole barn, and bend more slender accents than have ever been necessary, shine in the darkness necessarily. Actually not aching, actually not aching, a stubborn bloom is so artificial and even more than that, it is a spectacle, it is a binding accident, it is animosity and accentuation. If the chance to dirty diminishing is necessary, if it is why is there no complexion, why is there no rubbing, why is there no special protection.\"\n",
    "#paragraph = \"A dark grey, a very dark grey, a quite dark grey is monstrous ordinarily, it is so monstrous because there is no red in it. If red is in everything it is not necessary. Is that not an argument for any use of it and even so is there any place that is better, is there any place that has so much stretched out.\"\n",
    "#paragraph = \"Any neglect of many particles to a cracking, any neglect of this makes around it what is lead in color and certainly discolor in silver. The use of this is manifold. Supposing a certain time selected is assured, suppose it is even necessary, suppose no other extract is permitted and no more handling is needed, suppose the rest of the message is mixed with a very long slender needle and even if it could be any black border, supposing all this altogether made a dress and suppose it was actual, suppose the mean way to state it was occasional, if you suppose this in August and even more melodiously, if you suppose this even in the necessary incident of there certainly being no middle in summer and winter, suppose this and an elegant settlement a very elegant settlement is more than of consequence, it is not final and sufficient and substituted. This which was so kindly a present was constant.\"\n",
    "paragraph = \"This one was working and something was coming then, something was coming out of this one then. This one was one and always there was something coming out of this one and always there had been something coming out of this one. This one had never been one not having something coming out of this one. This one was one having something coming out of this one. This one had been one whom some were following. This one was one whom some were following. This one was being one whom some were following. This one was one who was working.\"\n",
    "with open('../vetiver.txt') as file:\n",
    "    #filetext = file.read().lower()\n",
    "    filetext = paragraph.lower()\n",
    "    sents_unstripped = nltk.sent_tokenize(filetext)\n",
    "    sents_hyphens = [tokenizer.tokenize(s) for s in sents_unstripped]\n",
    "    sents = sents_hyphens\n",
    "    #for s in sents_hyphens:\n",
    "    #    ws = [w for w in s if w not in stop_words]\n",
    "    #    sents.append(ws)\n",
    "    #for s in sents_hyphens:\n",
    "     #   nohyphens = []\n",
    "   #     for word in s:\n",
    "    #        if('—' in word):\n",
    "   #             wi = word.split('-')\n",
    "   #             wi.remove('-')\n",
    "   #             nohyphens.append(w for w in wi)\n",
    "    #        else:\n",
    "   #             nohyphens.append(word)\n",
    "   #     sents.append(nohyphens)\n",
    "    #tags = nltk.pos_tag(word_stripped)\n",
    "    #part_dict = {}\n",
    "    #for tag in tags:\n",
    "    #    part_dict[tag[0]] = tag[1]\n",
    "    #print(word_stripped)\n",
    "    #words = list(word_stripped)\n",
    "    #ws = [w for w in words if w not in stop_words ]\n",
    "    num_sents = len(sents)\n",
    "    storelast = \"\"\n",
    "    for s in sents:\n",
    "        bigs = list(nltk.bigrams(s))\n",
    "        if(len(bigs)==0):\n",
    "            storelast = s[0]\n",
    "        else:\n",
    "            if sents.index(s)>0:\n",
    "                G.add_edge(storelast, bigs[0][0])\n",
    "            for pair in bigs:\n",
    "                G.add_edge(pair[0], pair[1])\n",
    "            if sents.index(s)<num_sents-1:\n",
    "                storelast = bigs[len(bigs)-1][1]\n",
    "            \n",
    "            \n",
    "    colorkeys= []\n",
    "    #for pair in bigs:\n",
    "        #print(pair)\n",
    "     #   p0 = part_dict[pair[0]][:1]\n",
    "     #   p1 = part_dict[pair[1]][:1]\n",
    "        \n",
    "     #   if p0 in colordict.keys() and p1 in colordict.keys():\n",
    "     #       #G.add_node(pair[0],colordict[p0])\n",
    "     #       #G.add_node(pair[1],colordict[p1])\n",
    "     #       G.add_edge(pair[0], pair[1])\n",
    "\n",
    "#G.show(\"mygraph.html\")\n",
    "#G.show_buttons()\n",
    "#G.barnes_hut(overlap=5)\n",
    "#G.force_atlas_2based(overlap=5)\n",
    "#G.show('graph.html')\n",
    "\n",
    "\n",
    "\n",
    "draw_graph2(G)"
   ]
  },
  {
   "cell_type": "code",
   "execution_count": 72,
   "metadata": {},
   "outputs": [
    {
     "data": {
      "text/html": [
       "\n",
       "        <iframe\n",
       "            width=\"500px\"\n",
       "            height=\"500px\"\n",
       "            src=\"graph.html\"\n",
       "            frameborder=\"0\"\n",
       "            allowfullscreen\n",
       "        ></iframe>\n",
       "        "
      ],
      "text/plain": [
       "<IPython.lib.display.IFrame at 0x1a26700b00>"
      ]
     },
     "execution_count": 72,
     "metadata": {},
     "output_type": "execute_result"
    }
   ],
   "source": [
    "draw_graph2(filter_min(G,2))"
   ]
  },
  {
   "cell_type": "code",
   "execution_count": null,
   "metadata": {},
   "outputs": [],
   "source": []
  }
 ],
 "metadata": {
  "kernelspec": {
   "display_name": "Python 3",
   "language": "python",
   "name": "python3"
  },
  "language_info": {
   "codemirror_mode": {
    "name": "ipython",
    "version": 3
   },
   "file_extension": ".py",
   "mimetype": "text/x-python",
   "name": "python",
   "nbconvert_exporter": "python",
   "pygments_lexer": "ipython3",
   "version": "3.7.1"
  }
 },
 "nbformat": 4,
 "nbformat_minor": 2
}
