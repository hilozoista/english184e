{
 "cells": [
  {
   "cell_type": "markdown",
   "metadata": {},
   "source": [
    "# (3D) Lists and words\n",
    "## (3D-2) Words\n",
    "\n",
    "In this notebook, we'll learn:\n",
    "\n",
    "* How to split texts (strings) into **words** (lists)\n",
    "* How to use the **Natural Language Toolkit (NLTK)**, a Python module\n",
    "* How to calculate **Type-Token Ratio**\n",
    "\n",
    "## Tokenization"
   ]
  },
  {
   "cell_type": "markdown",
   "metadata": {},
   "source": [
    "How do we move from strings of characters to lists of words? How do we move from\n",
    "\n",
    "```python\n",
    "text_as_string = \"Perhaps people thought that doom could be pushed forward and away...\"\n",
    "```\n",
    "\n",
    "to\n",
    "\n",
    "```python\n",
    "text_as_list = ['Perhaps', 'people', 'thought', 'that', 'doom', 'could', 'be', 'pushed', 'forward', 'and', 'away', '...']\n",
    "```\n",
    "\n",
    "This process is called **tokenization** and is a major part of all natural language processing."
   ]
  },
  {
   "cell_type": "markdown",
   "metadata": {},
   "source": [
    "### `string.split()`\n",
    "\n",
    "The simplest way to tokenize a string is to use a built-in method of strings called `split()`."
   ]
  },
  {
   "cell_type": "code",
   "execution_count": 1,
   "metadata": {},
   "outputs": [
    {
     "name": "stdout",
     "output_type": "stream",
     "text": [
      "['Perhaps', 'people', 'thought', 'that', 'doom', 'could', 'be', 'pushed', 'forward', 'and', 'away...']\n"
     ]
    }
   ],
   "source": [
    "# Split text_as_string and turn it into a list\n",
    "text_as_string = \"Perhaps people thought that doom could be pushed forward and away...\"\n",
    "\n",
    "# Split!\n",
    "text_as_list = text_as_string.split()\n",
    "\n",
    "# print\n",
    "print(text_as_list)"
   ]
  },
  {
   "cell_type": "code",
   "execution_count": 2,
   "metadata": {},
   "outputs": [
    {
     "name": "stdout",
     "output_type": "stream",
     "text": [
      "Length of text_as_string: 68\n",
      "Length of text_as_list: 11\n"
     ]
    }
   ],
   "source": [
    "# We now have a new way of counting words!\n",
    "\n",
    "# print the length of the STRING (measured in CHARACTERS)\n",
    "print('Length of text_as_string:', len(text_as_string) )\n",
    "\n",
    "# print the length of the LIST (measured in \"ELEMENTS\" [here, words])\n",
    "print('Length of text_as_list:', len(text_as_list) )"
   ]
  },
  {
   "cell_type": "code",
   "execution_count": 8,
   "metadata": {},
   "outputs": [
    {
     "name": "stdout",
     "output_type": "stream",
     "text": [
      "154\n"
     ]
    }
   ],
   "source": [
    "## @TODO:\n",
    "# Split Bobby's first paragraph (from his second chapter [chapter 12])\n",
    "# Then count the number of words\n",
    "#\n",
    "\n",
    "bobby=\"\"\"Letter came today. Go figure. Never heard of this cousin, but he’s got it all right: name of Bobby’s dad, name of his mom, name of his uncles. Bobby reads it again. Reads it three times. Cousin from Hong Tian in Fujian, same village as his mother’s father. Gotta be a distant cousin. Could be a trick, but could be legit. Besides, how’d he find him? How’d he know Bobby was Chinese from Singapore? Knows everything. Knows Bobby’s Chinese name. Knows about the family bicycle business. Cousin’s in trouble. Musta got smuggled in. One of those boat people. Most never make it. This one might not either. All he’s got is Bobby’s name and address. Now the smugglers want their money. But where’s the cousin? Tijuana. Just turn over the money. Five thou to get the cousin across. If he makes it, five thou to get him free. China to Chinatown. That’s the deal.\"\"\"\n",
    "blist = bobby.split()\n",
    "print(len(blist))\n"
   ]
  },
  {
   "cell_type": "code",
   "execution_count": 10,
   "metadata": {},
   "outputs": [
    {
     "name": "stdout",
     "output_type": "stream",
     "text": [
      "['Letter', 'came', 'today.']\n",
      "['That’s', 'the', 'deal.']\n"
     ]
    }
   ],
   "source": [
    "# @TODO:\n",
    "# Print the first three words from Bobby's paragraph [using the list you made]\n",
    "# Print the last three words from Bobby's paragraph [using the list you made]\n",
    "#\n",
    "print(blist[:3])\n",
    "print(blist[-3:])\n"
   ]
  },
  {
   "cell_type": "markdown",
   "metadata": {},
   "source": [
    "### Writing our own tokenizer\n",
    "\n",
    "Let's write our own tokenizer—as a function!"
   ]
  },
  {
   "cell_type": "code",
   "execution_count": 21,
   "metadata": {},
   "outputs": [],
   "source": [
    "def tokenize(string):\n",
    "    \"\"\"\n",
    "    This function will accept a string as an argument,\n",
    "    and return a list of its tokens.\n",
    "    \"\"\"\n",
    "    tokens = string.split()\n",
    "    #@TODO: Finish this function\n",
    "    \n",
    "    return tokens\n",
    "\n",
    "def tokenize_without_punct(string):\n",
    "    \"\"\"\n",
    "    This function will accept a string as an argument,\n",
    "    and return a list of its tokens.\n",
    "    \"\"\"\n",
    "    \n",
    "    string=string.replace('-', ' ')\n",
    "    string = string.replace('?', '')\n",
    "    string=string.replace('!','')"
   ]
  },
  {
   "cell_type": "code",
   "execution_count": 58,
   "metadata": {},
   "outputs": [
    {
     "name": "stdout",
     "output_type": "stream",
     "text": [
      "Help on function tokenize in module __main__:\n",
      "\n",
      "tokenize(string)\n",
      "    This function will accept a string as an argument,\n",
      "    and return a list of its tokens.\n",
      "\n"
     ]
    }
   ],
   "source": [
    "help(tokenize)"
   ]
  },
  {
   "cell_type": "code",
   "execution_count": 59,
   "metadata": {},
   "outputs": [],
   "source": [
    "test_str='How many words--words I say!--are in this string?'\n",
    "\n",
    "tokenize(test_str)"
   ]
  },
  {
   "cell_type": "code",
   "execution_count": 60,
   "metadata": {},
   "outputs": [],
   "source": [
    "tokenize(bobby)"
   ]
  },
  {
   "cell_type": "code",
   "execution_count": 24,
   "metadata": {},
   "outputs": [
    {
     "name": "stdout",
     "output_type": "stream",
     "text": [
      "['FOOD', 'ROASTBEEF;', 'MUTTON;', 'BREAKFAST;', 'SUGAR;', 'CRANBERRIES;', 'MILK;', 'EGGS;', 'APPLE;', 'TAILS;', 'LUNCH;', 'CUPS;', 'RHUBARB;', 'SINGLE;', 'FISH;', 'CAKE;', 'CUSTARD;', 'POTATOES;', 'ASPARAGUS;', 'BUTTER;', 'END', 'OF', 'SUMMER;', 'SAUSAGES;', 'CELERY;', 'VEAL;', 'VEGETABLE;', 'COOKING;', 'CHICKEN;', 'PASTRY;', 'CREAM;', 'CUCUMBER;', 'DINNER;', 'DINING;', 'EATING;', 'SALAD;', 'SAUCE;', 'SALMON;', 'ORANGE;', 'COCOA;', 'AND', 'CLEAR', 'SOUP', 'AND', 'ORANGES', 'AND', 'OAT-MEAL;', 'SALAD', 'DRESSING', 'AND', 'AN', 'ARTICHOKE;', 'A', 'CENTRE', 'IN', 'A', 'TABLE.', 'ROASTBEEF.', 'In', 'the', 'inside', 'there', 'is', 'sleeping,', 'in', 'the', 'outside', 'there', 'is', 'reddening,', 'in', 'the', 'morning', 'there', 'is', 'meaning,', 'in', 'the', 'evening', 'there', 'is', 'feeling.', 'In', 'the', 'evening', 'there', 'is', 'feeling.', 'In', 'feeling', 'anything', 'is', 'resting,', 'in', 'feeling', 'anything', 'is', 'mounting,', 'in', 'feeling', 'there', 'is', 'resignation,', 'in', 'feeling', 'there', 'is', 'recognition,', 'in', 'feeling', 'there', 'is', 'recurrence', 'and', 'entirely', 'mistaken', 'there', 'is', 'pinching.', 'All', 'the', 'standards', 'have', 'steamers', 'and', 'all', 'the', 'curtains', 'have', 'bed', 'linen', 'and', 'all', 'the', 'yellow', 'has', 'discrimination', 'and', 'all', 'the', 'circle', 'has', 'circling.', 'This', 'makes', 'sand.', 'Very', 'well.', 'Certainly', 'the', 'length', 'is', 'thinner', 'and', 'the', 'rest,', 'the', 'round', 'rest', 'has', 'a', 'longer', 'summer.', 'To', 'shine,', 'why', 'not', 'shine,', 'to', 'shine,', 'to', 'station,', 'to', 'enlarge,', 'to', 'hurry', 'the', 'measure', 'all', 'this', 'means', 'nothing', 'if', 'there', 'is', 'singing,', 'if', 'there', 'is', 'singing', 'then', 'there', 'is', 'the', 'resumption.', 'The', 'change', 'the', 'dirt,', 'not', 'to', 'change', 'dirt', 'means', 'that', 'there', 'is', 'no', 'beefsteak', 'and', 'not', 'to', 'have', 'that', 'is', 'no', 'obstruction,', 'it', 'is', 'so', 'easy', 'to', 'exchange', 'meaning,', 'it', 'is', 'so', 'easy', 'to', 'see', 'the', 'difference.', 'The', 'difference', 'is', 'that', 'a', 'plain', 'resource', 'is', 'not', 'entangled', 'with', 'thickness', 'and', 'it', 'does', 'not', 'mean', 'that', 'thickness', 'shows', 'such', 'cutting,', 'it', 'does', 'mean', 'that', 'a', 'meadow', 'is', 'useful', 'and', 'a', 'cow', 'absurd.', 'It', 'does', 'not', 'mean', 'that', 'there', 'are', 'tears,', 'it', 'does', 'not', 'mean', 'that', 'exudation', 'is', 'cumbersome,', 'it', 'means', 'no', 'more', 'than', 'a', 'memory,', 'a', 'choice', 'and', 'a', 'reëstablishment,', 'it', 'means', 'more', 'than', 'any', 'escape', 'from', 'a', 'surrounding', 'extra.', 'All', 'the', 'time', 'that', 'there', 'is', 'use', 'there', 'is', 'use', 'and', 'any', 'time', 'there', 'is', 'a', 'surface', 'there', 'is', 'a', 'surface,', 'and', 'every', 'time', 'there', 'is', 'an', 'exception', 'there', 'is', 'an', 'exception', 'and', 'every', 'time', 'there', 'is', 'a', 'division', 'there', 'is', 'a', 'dividing.', 'Any', 'time', 'there', 'is', 'a', 'surface', 'there', 'is', 'a', 'surface', 'and', 'every', 'time', 'there', 'is', 'a', 'suggestion', 'there', 'is', 'a', 'suggestion', 'and', 'every', 'time', 'there', 'is', 'silence', 'there', 'is', 'silence', 'and', 'every', 'time', 'that', 'is', 'languid', 'there', 'is', 'that', 'there', 'then', 'and', 'not', 'oftener,', 'not', 'always,', 'not', 'particular,', 'tender', 'and', 'changing', 'and', 'external', 'and', 'central', 'and', 'surrounded', 'and', 'singular', 'and', 'simple', 'and', 'the', 'same', 'and', 'the', 'surface', 'and', 'the', 'circle', 'and', 'the', 'shine', 'and', 'the', 'succor', 'and', 'the', 'white', 'and', 'the', 'same', 'and', 'the', 'better', 'and', 'the', 'red', 'and', 'the', 'same', 'and', 'the', 'centre', 'and', 'the', 'yellow', 'and', 'the', 'tender', 'and', 'the', 'better,', 'and', 'altogether.', 'Considering', 'the', 'circumstances', 'there', 'is', 'no', 'occasion', 'for', 'a', 'reduction,', 'considering', 'that', 'there', 'is', 'no', 'pealing', 'there', 'is', 'no', 'occasion', 'for', 'an', 'obligation,', 'considering', 'that', 'there', 'is', 'no', 'outrage', 'there', 'is', 'no', 'necessity', 'for', 'any', 'reparation,', 'considering', 'that', 'there', 'is', 'no', 'particle', 'sodden', 'there', 'is', 'no', 'occasion', 'for', 'deliberation.', 'Considering', 'everything', 'and', 'which', 'way', 'the', 'turn', 'is', 'tending,', 'considering', 'everything', 'why', 'is', 'there', 'no', 'restraint,', 'considering', 'everything', 'what', 'makes', 'the', 'place', 'settle', 'and', 'the', 'plate', 'distinguish', 'some', 'specialties.', 'The', 'whole', 'thing', 'is', 'not', 'understood', 'and', 'this', 'is', 'not', 'strange', 'considering', 'that', 'there', 'is', 'no', 'education,', 'this', 'is', 'not', 'strange', 'because', 'having', 'that', 'certainly', 'does', 'show', 'the', 'difference', 'in', 'cutting,', 'it', 'shows', 'that', 'when', 'there', 'is', 'turning', 'there', 'is', 'no', 'distress.', 'In', 'kind,', 'in', 'a', 'control,', 'in', 'a', 'period,', 'in', 'the', 'alteration', 'of', 'pigeons,', 'in', 'kind', 'cuts', 'and', 'thick', 'and', 'thin', 'spaces,', 'in', 'kind', 'ham', 'and', 'different', 'colors,', 'the', 'length', 'of', 'leaning', 'a', 'strong', 'thing', 'outside', 'not', 'to', 'make', 'a', 'sound', 'but', 'to', 'suggest', 'a', 'crust,', 'the', 'principal', 'taste', 'is', 'when', 'there', 'is', 'a', 'whole', 'chance', 'to', 'be', 'reasonable,', 'this', 'does', 'not', 'mean', 'that', 'there', 'is', 'overtaking,', 'this', 'means', 'nothing', 'precious,', 'this', 'means', 'clearly', 'that', 'the', 'chance', 'to', 'exercise', 'is', 'a', 'social', 'success.', 'So', 'then', 'the', 'sound', 'is', 'not', 'obtrusive.', 'Suppose', 'it', 'is', 'obtrusive', 'suppose', 'it', 'is.', 'What', 'is', 'certainly', 'the', 'desertion', 'is', 'not', 'a', 'reduced', 'description,', 'a', 'description', 'is', 'not', 'a', 'birthday.', 'Lovely', 'snipe', 'and', 'tender', 'turn,', 'excellent', 'vapor', 'and', 'slender', 'butter,', 'all', 'the', 'splinter', 'and', 'the', 'trunk,', 'all', 'the', 'poisonous', 'darkning', 'drunk,', 'all', 'the', 'joy', 'in', 'weak', 'success,', 'all', 'the', 'joyful', 'tenderness,', 'all', 'the', 'section', 'and', 'the', 'tea,', 'all', 'the', 'stouter', 'symmetry.', 'Around', 'the', 'size', 'that', 'is', 'small,', 'inside', 'the', 'stern', 'that', 'is', 'the', 'middle,', 'besides', 'the', 'remains', 'that', 'are', 'praying,', 'inside', 'the', 'between', 'that', 'is', 'turning,', 'all', 'the', 'region', 'is', 'measuring', 'and', 'melting', 'is', 'exaggerating.', 'Rectangular', 'ribbon', 'does', 'not', 'mean', 'that', 'there', 'is', 'no', 'eruption', 'it', 'means', 'that', 'if', 'there', 'is', 'no', 'place', 'to', 'hold', 'there', 'is', 'no', 'place', 'to', 'spread.', 'Kindness', 'is', 'not', 'earnest,', 'it', 'is', 'not', 'assiduous', 'it', 'is', 'not', 'revered.', 'Room', 'to', 'comb', 'chickens', 'and', 'feathers', 'and', 'ripe', 'purple,', 'room', 'to', 'curve', 'single', 'plates', 'and', 'large', 'sets', 'and', 'second', 'silver,', 'room', 'to', 'send', 'everything', 'away,', 'room', 'to', 'save', 'heat', 'and', 'distemper,', 'room', 'to', 'search', 'a', 'light', 'that', 'is', 'simpler,', 'all', 'room', 'has', 'no', 'shadow.', 'There', 'is', 'no', 'use', 'there', 'is', 'no', 'use', 'at', 'all', 'in', 'smell,', 'in', 'taste,', 'in', 'teeth,', 'in', 'toast,', 'in', 'anything,', 'there', 'is', 'no', 'use', 'at', 'all', 'and', 'the', 'respect', 'is', 'mutual.', 'Why', 'should', 'that', 'which', 'is', 'uneven,', 'that', 'which', 'is', 'resumed,', 'that', 'which', 'is', 'tolerable', 'why', 'should', 'all', 'this', 'resemble', 'a', 'smell,', 'a', 'thing', 'is', 'there,', 'it', 'whistles,', 'it', 'is', 'not', 'narrower,', 'why', 'is', 'there', 'no', 'obligation', 'to', 'stay', 'away', 'and', 'yet', 'courage,', 'courage', 'is', 'everywhere', 'and', 'the', 'best', 'remains', 'to', 'stay.', 'If', 'there', 'could', 'be', 'that', 'which', 'is', 'contained', 'in', 'that', 'which', 'is', 'felt', 'there', 'would', 'be', 'a', 'chair', 'where', 'there', 'are', 'chairs', 'and', 'there', 'would', 'be', 'no', 'more', 'denial', 'about', 'a', 'clatter.', 'A', 'clatter', 'is', 'not', 'a', 'smell.', 'All', 'this', 'is', 'good.', 'The', 'Saturday', 'evening', 'which', 'is', 'Sunday', 'is', 'every', 'week', 'day.', 'What', 'choice', 'is', 'there', 'when', 'there', 'is', 'a', 'difference.', 'A', 'regulation', 'is', 'not', 'active.', 'Thirstiness', 'is', 'not', 'equal', 'division.', 'Anyway,', 'to', 'be', 'older', 'and', 'ageder', 'is', 'not', 'a', 'surfeit', 'nor', 'a', 'suction,', 'it', 'is', 'not', 'dated', 'and', 'careful,', 'it', 'is', 'not', 'dirty.', 'Any', 'little', 'thing', 'is', 'clean,', 'rubbing', 'is', 'black.', 'Why', 'should', 'ancient', 'lambs', 'be', 'goats', 'and', 'young', 'colts', 'and', 'never', 'beef,', 'why', 'should', 'they,', 'they', 'should', 'because', 'there', 'is', 'so', 'much', 'difference', 'in', 'age.', 'A', 'sound,', 'a', 'whole', 'sound', 'is', 'not', 'separation,', 'a', 'whole', 'sound', 'is', 'in', 'an', 'order.', 'Suppose', 'there', 'is', 'a', 'pigeon,', 'suppose', 'there', 'is.', 'Looseness,', 'why', 'is', 'there', 'a', 'shadow', 'in', 'a', 'kitchen,', 'there', 'is', 'a', 'shadow', 'in', 'a', 'kitchen', 'because', 'every', 'little', 'thing', 'is', 'bigger.', 'The', 'time', 'when', 'there', 'are', 'four', 'choices', 'and', 'there', 'are', 'four', 'choices', 'in', 'a', 'difference,', 'the', 'time', 'when', 'there', 'are', 'four', 'choices', 'there', 'is', 'a', 'kind', 'and', 'there', 'is', 'a', 'kind.', 'There', 'is', 'a', 'kind.', 'There', 'is', 'a', 'kind.', 'Supposing', 'there', 'is', 'a', 'bone,', 'there', 'is', 'a', 'bone.', 'Supposing', 'there', 'are', 'bones.', 'There', 'are', 'bones.', 'When', 'there', 'are', 'bones', 'there', 'is', 'no', 'supposing', 'there', 'are', 'bones.', 'There', 'are', 'bones', 'and', 'there', 'is', 'that', 'consuming.', 'The', 'kindly', 'way', 'to', 'feel', 'separating', 'is', 'to', 'have', 'a', 'space', 'between.', 'This', 'shows', 'a', 'likeness.', 'Hope', 'in', 'gates,', 'hope', 'in', 'spoons,', 'hope', 'in', 'doors,', 'hope', 'in', 'tables,', 'no', 'hope', 'in', 'daintiness', 'and', 'determination.', 'Hope', 'in', 'dates.', 'Tin', 'is', 'not', 'a', 'can', 'and', 'a', 'stove', 'is', 'hardly.', 'Tin', 'is', 'not', 'necessary', 'and', 'neither', 'is', 'a', 'stretcher.', 'Tin', 'is', 'never', 'narrow', 'and', 'thick.', 'Color', 'is', 'in', 'coal.', 'Coal', 'is', 'outlasting', 'roasting', 'and', 'a', 'spoonful,', 'a', 'whole', 'spoon', 'that', 'is', 'full', 'is', 'not', 'spilling.', 'Coal', 'any', 'coal', 'is', 'copper.', 'Claiming', 'nothing,', 'not', 'claiming', 'anything,', 'not', 'a', 'claim', 'in', 'everything,', 'collecting', 'claiming,', 'all', 'this', 'makes', 'a', 'harmony,', 'it', 'even', 'makes', 'a', 'succession.', 'Sincerely', 'gracious', 'one', 'morning,', 'sincerely', 'graciously', 'trembling,', 'sincere', 'in', 'gracious', 'eloping,', 'all', 'this', 'makes', 'a', 'furnace', 'and', 'a', 'blanket.', 'All', 'this', 'shows', 'quantity.', 'Like', 'an', 'eye,', 'not', 'so', 'much', 'more,', 'not', 'any', 'searching,', 'no', 'compliments.', 'Please', 'be', 'the', 'beef,', 'please', 'beef,', 'pleasure', 'is', 'not', 'wailing.', 'Please', 'beef,', 'please', 'be', 'carved', 'clear,', 'please', 'be', 'a', 'case', 'of', 'consideration.', 'Search', 'a', 'neglect.', 'A', 'sale,', 'any', 'greatness', 'is', 'a', 'stall', 'and', 'there', 'is', 'no', 'memory,', 'there', 'is', 'no', 'clear', 'collection.', 'A', 'satin', 'sight,', 'what', 'is', 'a', 'trick,', 'no', 'trick', 'is', 'mountainous', 'and', 'the', 'color,', 'all', 'the', 'rush', 'is', 'in', 'the', 'blood.', 'Bargaining', 'for', 'a', 'little,', 'bargain', 'for', 'a', 'touch,', 'a', 'liberty,', 'an', 'estrangement,', 'a', 'characteristic', 'turkey.', 'Please', 'spice,', 'please', 'no', 'name,', 'place', 'a', 'whole', 'weight,', 'sink', 'into', 'a', 'standard', 'rising,', 'raise', 'a', 'circle,', 'choose', 'a', 'right', 'around,', 'make', 'the', 'resonance', 'accounted', 'and', 'gather', 'green', 'any', 'collar.', 'To', 'bury', 'a', 'slender', 'chicken,', 'to', 'raise', 'an', 'old', 'feather,', 'to', 'surround', 'a', 'garland', 'and', 'to', 'bake', 'a', 'pole', 'splinter,', 'to', 'suggest', 'a', 'repose', 'and', 'to', 'settle', 'simply,', 'to', 'surrender', 'one', 'another,', 'to', 'succeed', 'saving', 'simpler,', 'to', 'satisfy', 'a', 'singularity', 'and', 'not', 'to', 'be', 'blinder,', 'to', 'sugar', 'nothing', 'darker', 'and', 'to', 'read', 'redder,', 'to', 'have', 'the', 'color', 'better,', 'to', 'sort', 'out', 'dinner,', 'to', 'remain', 'together,', 'to', 'surprise', 'no', 'sinner,', 'to', 'curve', 'nothing', 'sweeter,', 'to', 'continue', 'thinner,', 'to', 'increase', 'in', 'resting', 'recreation', 'to', 'design', 'string', 'not', 'dimmer.', 'Cloudiness', 'what', 'is', 'cloudiness,', 'is', 'it', 'a', 'lining,', 'is', 'it', 'a', 'roll,', 'is', 'it', 'melting.', 'The', 'sooner', 'there', 'is', 'jerking,', 'the', 'sooner', 'freshness', 'is', 'tender,', 'the', 'sooner', 'the', 'round', 'it', 'is', 'not', 'round', 'the', 'sooner', 'it', 'is', 'withdrawn', 'in', 'cutting,', 'the', 'sooner', 'the', 'measure', 'means', 'service,', 'the', 'sooner', 'there', 'is', 'chinking,', 'the', 'sooner', 'there', 'is', 'sadder', 'than', 'salad,', 'the', 'sooner', 'there', 'is', 'none', 'do', 'her,', 'the', 'sooner', 'there', 'is', 'no', 'choice,', 'the', 'sooner', 'there', 'is', 'a', 'gloom', 'freer,', 'the', 'same', 'sooner', 'and', 'more', 'sooner,', 'this', 'is', 'no', 'error', 'in', 'hurry', 'and', 'in', 'pressure', 'and', 'in', 'opposition', 'to', 'consideration.', 'A', 'recital,', 'what', 'is', 'a', 'recital,', 'it', 'is', 'an', 'organ', 'and', 'use', 'does', 'not', 'strengthen', 'valor,', 'it', 'soothes', 'medicine.', 'A', 'transfer,', 'a', 'large', 'transfer,', 'a', 'little', 'transfer,', 'some', 'transfer,', 'clouds', 'and', 'tracks', 'do', 'transfer,', 'a', 'transfer', 'is', 'not', 'neglected.', 'Pride,', 'when', 'is', 'there', 'perfect', 'pretence,', 'there', 'is', 'no', 'more', 'than', 'yesterday', 'and', 'ordinary.', 'A', 'sentence', 'of', 'a', 'vagueness', 'that', 'is', 'violence', 'is', 'authority', 'and', 'a', 'mission', 'and', 'stumbling', 'and', 'also', 'certainly', 'also', 'a', 'prison.', 'Calmness,', 'calm', 'is', 'beside', 'the', 'plate', 'and', 'in', 'way', 'in.', 'There', 'is', 'no', 'turn', 'in', 'terror.', 'There', 'is', 'no', 'volume', 'in', 'sound.', 'There', 'is', 'coagulation', 'in', 'cold', 'and', 'there', 'is', 'none', 'in', 'prudence.', 'Something', 'is', 'preserved', 'and', 'the', 'evening', 'is', 'long', 'and', 'the', 'colder', 'spring', 'has', 'sudden', 'shadows', 'in', 'a', 'sun.', 'All', 'the', 'stain', 'is', 'tender', 'and', 'lilacs', 'really', 'lilacs', 'are', 'disturbed.', 'Why', 'is', 'the', 'perfect', 'reëstablishment', 'practiced', 'and', 'prized,', 'why', 'is', 'it', 'composed.', 'The', 'result', 'the', 'pure', 'result', 'is', 'juice', 'and', 'size', 'and', 'baking', 'and', 'exhibition', 'and', 'nonchalance', 'and', 'sacrifice', 'and', 'volume', 'and', 'a', 'section', 'in', 'division', 'and', 'the', 'surrounding', 'recognition', 'and', 'horticulture', 'and', 'no', 'murmur.', 'This', 'is', 'a', 'result.', 'There', 'is', 'no', 'superposition', 'and', 'circumstance,', 'there', 'is', 'hardness', 'and', 'a', 'reason', 'and', 'the', 'rest', 'and', 'remainder.', 'There', 'is', 'no', 'delight', 'and', 'no', 'mathematics.', 'MUTTON.', 'A', 'letter', 'which', 'can', 'wither,', 'a', 'learning', 'which', 'can', 'suffer', 'and', 'an', 'outrage', 'which', 'is', 'simultaneous', 'is', 'principal.', 'Student,', 'students', 'are', 'merciful', 'and', 'recognised', 'they', 'chew', 'something.', 'Hate', 'rests', 'that', 'is', 'solid', 'and', 'sparse', 'and', 'all', 'in', 'a', 'shape', 'and', 'largely', 'very', 'largely.', 'Interleaved', 'and', 'successive', 'and', 'a', 'sample', 'of', 'smell', 'all', 'this', 'makes', 'a', 'certainty', 'a', 'shade.', 'Light', 'curls', 'very', 'light', 'curls', 'have', 'no', 'more', 'curliness', 'than', 'soup.', 'This', 'is', 'not', 'a', 'subject.', 'Change', 'a', 'single', 'stream', 'of', 'denting', 'and', 'change', 'it', 'hurriedly,', 'what', 'does', 'it', 'express,', 'it', 'expresses', 'nausea.', 'Like', 'a', 'very', 'strange', 'likeness', 'and', 'pink,', 'like', 'that', 'and', 'not', 'more', 'like', 'that', 'than', 'the', 'same', 'resemblance', 'and', 'not', 'more', 'like', 'that', 'than', 'no', 'middle', 'space', 'in', 'cutting.', 'An', 'eye', 'glass,', 'what', 'is', 'an', 'eye', 'glass,', 'it', 'is', 'water.', 'A', 'splendid', 'specimen,', 'what', 'is', 'it', 'when', 'it', 'is', 'little', 'and', 'tender', 'so', 'that', 'there', 'are', 'parts.', 'A', 'centre', 'can', 'place', 'and', 'four', 'are', 'no', 'more', 'and', 'two', 'and', 'two', 'are', 'not', 'middle.', 'Melting', 'and', 'not', 'minding,', 'safety', 'and', 'powder,', 'a', 'particular', 'recollection', 'and', 'a', 'sincere', 'solitude', 'all', 'this', 'makes', 'a', 'shunning', 'so', 'thorough', 'and', 'so', 'unrepeated', 'and', 'surely', 'if', 'there', 'is', 'anything', 'left', 'it', 'is', 'a', 'bone.', 'It', 'is', 'not', 'solitary.', 'Any', 'space', 'is', 'not', 'quiet', 'it', 'is', 'so', 'likely', 'to', 'be', 'shiny.', 'Darkness', 'very', 'dark', 'darkness', 'is', 'sectional.', 'There', 'is', 'a', 'way', 'to', 'see', 'in', 'onion', 'and', 'surely', 'very', 'surely', 'rhubarb', 'and', 'a', 'tomato,', 'surely', 'very', 'surely', 'there', 'is', 'that', 'seeding.', 'A', 'little', 'thing', 'in', 'is', 'a', 'little', 'thing.', 'Mud', 'and', 'water', 'were', 'not', 'present', 'and', 'not', 'any', 'more', 'of', 'either.', 'Silk', 'and', 'stockings', 'were', 'not', 'present', 'and', 'not', 'any', 'more', 'of', 'either.', 'A', 'receptacle', 'and', 'a', 'symbol', 'and', 'no', 'monster', 'were', 'present', 'and', 'no', 'more.', 'This', 'made', 'a', 'piece', 'show', 'and', 'was', 'it', 'a', 'kindness,', 'it', 'can', 'be', 'asked', 'was', 'it', 'a', 'kindness', 'to', 'have', 'it', 'warmer,', 'was', 'it', 'a', 'kindness', 'and', 'does', 'gliding', 'mean', 'more.', 'Does', 'it.', 'Does', 'it', 'dirty', 'a', 'ceiling.', 'It', 'does', 'not.', 'Is', 'it', 'dainty,', 'it', 'is', 'if', 'prices', 'are', 'sweet.', 'Is', 'it', 'lamentable,', 'it', 'is', 'not', 'if', 'there', 'is', 'no', 'undertaker.', 'Is', 'it', 'curious,', 'it', 'is', 'not', 'when', 'there', 'is', 'youth.', 'All', 'this', 'makes', 'a', 'line,', 'it', 'even', 'makes', 'makes', 'no', 'more.', 'All', 'this', 'makes', 'cherries.', 'The', 'reason', 'that', 'there', 'is', 'a', 'suggestion', 'in', 'vanity', 'is', 'due', 'to', 'this', 'that', 'there', 'is', 'a', 'burst', 'of', 'mixed', 'music.', 'A', 'temptation', 'any', 'temptation', 'is', 'an', 'exclamation', 'if', 'there', 'are', 'misdeeds', 'and', 'little', 'bones.', 'It', 'is', 'not', 'astonishing', 'that', 'bones', 'mingle', 'as', 'they', 'vary', 'not', 'at', 'all', 'and', 'in', 'any', 'case', 'why', 'is', 'a', 'bone', 'outstanding,', 'it', 'is', 'so', 'because', 'the', 'circumstance', 'that', 'does', 'not', 'make', 'a', 'cake', 'and', 'character', 'is', 'so', 'easily', 'churned', 'and', 'cherished.', 'Mouse', 'and', 'mountain', 'and', 'a', 'quiver,', 'a', 'quaint', 'statue', 'and', 'pain', 'in', 'an', 'exterior', 'and', 'silence', 'more', 'silence', 'louder', 'shows', 'salmon', 'a', 'mischief', 'intender.', 'A', 'cake,', 'a', 'real', 'salve', 'made', 'of', 'mutton', 'and', 'liquor,', 'a', 'specially', 'retained', 'rinsing', 'and', 'an', 'established', 'cork', 'and', 'blazing,', 'this', 'which', 'resignation', 'influences', 'and', 'restrains,', 'restrains', 'more', 'altogether.', 'A', 'sign', 'is', 'the', 'specimen', 'spoken.', 'A', 'meal', 'in', 'mutton,', 'mutton,', 'why', 'is', 'lamb', 'cheaper,', 'it', 'is', 'cheaper', 'because', 'so', 'little', 'is', 'more.', 'Lecture,', 'lecture', 'and', 'repeat', 'instruction.', 'BREAKFAST.', 'A', 'change,', 'a', 'final', 'change', 'includes', 'potatoes.', 'This', 'is', 'no', 'authority', 'for', 'the', 'abuse', 'of', 'cheese.', 'What', 'language', 'can', 'instruct', 'any', 'fellow.', 'A', 'shining', 'breakfast,', 'a', 'breakfast', 'shining,', 'no', 'dispute,', 'no', 'practice,', 'nothing,', 'nothing', 'at', 'all.', 'A', 'sudden', 'slice', 'changes', 'the', 'whole', 'plate,', 'it', 'does', 'so', 'suddenly.', 'An', 'imitation,', 'more', 'imitation,', 'imitation', 'succeed', 'imitations.', 'Anything', 'that', 'is', 'decent,', 'anything', 'that', 'is', 'present,', 'a', 'calm', 'and', 'a', 'cook', 'and', 'more', 'singularly', 'still', 'a', 'shelter,', 'all', 'these', 'show', 'the', 'need', 'of', 'clamor.', 'What', 'is', 'the', 'custom,', 'the', 'custom', 'is', 'in', 'the', 'centre.', 'What', 'is', 'a', 'loving', 'tongue', 'and', 'pepper', 'and', 'more', 'fish', 'than', 'there', 'is', 'when', 'tears', 'many', 'tears', 'are', 'necessary.', 'The', 'tongue', 'and', 'the', 'salmon,', 'there', 'is', 'not', 'salmon', 'when', 'brown', 'is', 'a', 'color,', 'there', 'is', 'salmon', 'when', 'there', 'is', 'no', 'meaning', 'to', 'an', 'early', 'morning', 'being', 'pleasanter.', 'There', 'is', 'no', 'salmon,', 'there', 'are', 'no', 'tea-cups,', 'there', 'are', 'the', 'same', 'kind', 'of', 'mushes', 'as', 'are', 'used', 'as', 'stomachers', 'by', 'the', 'eating', 'hopes', 'that', 'makes', 'eggs', 'delicious.', 'Drink', 'is', 'likely', 'to', 'stir', 'a', 'certain', 'respect', 'for', 'an', 'egg', 'cup', 'and', 'more', 'water', 'melon', 'than', 'was', 'ever', 'eaten', 'yesterday.', 'Beer', 'is', 'neglected', 'and', 'cocoanut', 'is', 'famous.', 'Coffee', 'all', 'coffee', 'and', 'a', 'sample', 'of', 'soup', 'all', 'soup', 'these', 'are', 'the', 'choice', 'of', 'a', 'baker.', 'A', 'white', 'cup', 'means', 'a', 'wedding.', 'A', 'wet', 'cup', 'means', 'a', 'vacation.', 'A', 'strong', 'cup', 'means', 'an', 'especial', 'regulation.', 'A', 'single', 'cup', 'means', 'a', 'capital', 'arrangement', 'between', 'the', 'drawer', 'and', 'the', 'place', 'that', 'is', 'open.', 'Price', 'a', 'price', 'is', 'not', 'in', 'language,', 'it', 'is', 'not', 'in', 'custom,', 'it', 'is', 'not', 'in', 'praise.', 'A', 'colored', 'loss,', 'why', 'is', 'there', 'no', 'leisure.', 'If', 'the', 'persecution', 'is', 'so', 'outrageous', 'that', 'nothing', 'is', 'solemn', 'is', 'there', 'any', 'occasion', 'for', 'persuasion.', 'A', 'grey', 'turn', 'to', 'a', 'top', 'and', 'bottom,', 'a', 'silent', 'pocketful', 'of', 'much', 'heating,', 'all', 'the', 'pliable', 'succession', 'of', 'surrendering', 'makes', 'an', 'ingenious', 'joy.', 'A', 'breeze', 'in', 'a', 'jar', 'and', 'even', 'then', 'silence,', 'a', 'special', 'anticipation', 'in', 'a', 'rack,', 'a', 'gurgle', 'a', 'whole', 'gurgle', 'and', 'more', 'cheese', 'than', 'almost', 'anything,', 'is', 'this', 'an', 'astonishment,', 'does', 'this', 'incline', 'more', 'than', 'the', 'original', 'division', 'between', 'a', 'tray', 'and', 'a', 'talking', 'arrangement', 'and', 'even', 'then', 'a', 'calling', 'into', 'another', 'room', 'gently', 'with', 'some', 'chicken', 'in', 'any', 'way.', 'A', 'bent', 'way', 'that', 'is', 'a', 'way', 'to', 'declare', 'that', 'the', 'best', 'is', 'all', 'together,', 'a', 'bent', 'way', 'shows', 'no', 'result,', 'it', 'shows', 'a', 'slight', 'restraint,', 'it', 'shows', 'a', 'necessity', 'for', 'retraction.', 'Suspect', 'a', 'single', 'buttered', 'flower,', 'suspect', 'it', 'certainly,', 'suspect', 'it', 'and', 'then', 'glide,', 'does', 'that', 'not', 'alter', 'a', 'counting.', 'A', 'hurt', 'mended', 'stick,', 'a', 'hurt', 'mended', 'cup,', 'a', 'hurt', 'mended', 'article', 'of', 'exceptional', 'relaxation', 'and', 'annoyance,', 'a', 'hurt', 'mended,', 'hurt', 'and', 'mended', 'is', 'so', 'necessary', 'that', 'no', 'mistake', 'is', 'intended.', 'What', 'is', 'more', 'likely', 'than', 'a', 'roast,', 'nothing', 'really', 'and', 'yet', 'it', 'is', 'never', 'disappointed', 'singularly.', 'A', 'steady', 'cake,', 'any', 'steady', 'cake', 'is', 'perfect', 'and', 'not', 'plain,', 'any', 'steady', 'cake', 'has', 'a', 'mounting', 'reason', 'and', 'more', 'than', 'that', 'it', 'has', 'singular', 'crusts.', 'A', 'season', 'of', 'more', 'is', 'a', 'season', 'that', 'is', 'instead.', 'A', 'season', 'of', 'many', 'is', 'not', 'more', 'a', 'season', 'than', 'most.', 'Take', 'no', 'remedy', 'lightly,', 'take', 'no', 'urging', 'intently,', 'take', 'no', 'separation', 'leniently,', 'beware', 'of', 'no', 'lake', 'and', 'no', 'larder.', 'Burden', 'the', 'cracked', 'wet', 'soaking', 'sack', 'heavily,', 'burden', 'it', 'so', 'that', 'it', 'is', 'an', 'institution', 'in', 'fright', 'and', 'in', 'climate', 'and', 'in', 'the', 'best', 'plan', 'that', 'there', 'can', 'be.', 'An', 'ordinary', 'color,', 'a', 'color', 'is', 'that', 'strange', 'mixture', 'which', 'makes,', 'which', 'does', 'make', 'which', 'does', 'not', 'make', 'a', 'ripe', 'juice,', 'which', 'does', 'not', 'make', 'a', 'mat.', 'A', 'work', 'which', 'is', 'a', 'winding', 'a', 'real', 'winding', 'of', 'the', 'cloaking', 'of', 'a', 'relaxing', 'rescue.', 'This', 'which', 'is', 'so', 'cool', 'is', 'not', 'dusting,', 'it', 'is', 'not', 'dirtying', 'in', 'smelling,', 'it', 'could', 'use', 'white', 'water,', 'it', 'could', 'use', 'more', 'extraordinarily', 'and', 'in', 'no', 'solitude', 'altogether.', 'This', 'which', 'is', 'so', 'not', 'winsome', 'and', 'not', 'widened', 'and', 'really', 'not', 'so', 'dipped', 'as', 'dainty', 'and', 'really', 'dainty,', 'very', 'dainty,', 'ordinarily,', 'dainty,', 'a', 'dainty,', 'not', 'in', 'that', 'dainty', 'and', 'dainty.', 'If', 'the', 'time', 'is', 'determined,', 'if', 'it', 'is', 'determined', 'and', 'there', 'is', 'reunion', 'there', 'is', 'reunion', 'with', 'that', 'then', 'outline,', 'then', 'there', 'is', 'in', 'that', 'a', 'piercing', 'shutter,', 'all', 'of', 'a', 'piercing', 'shouter,', 'all', 'of', 'a', 'quite', 'weather,', 'all', 'of', 'a', 'withered', 'exterior,', 'all', 'of', 'that', 'in', 'most', 'violent', 'likely.', 'An', 'excuse', 'is', 'not', 'dreariness,', 'a', 'single', 'plate', 'is', 'not', 'butter,', 'a', 'single', 'weight', 'is', 'not', 'excitement,', 'a', 'solitary', 'crumbling', 'is', 'not', 'only', 'martial.', 'A', 'mixed', 'protection,', 'very', 'mixed', 'with', 'the', 'same', 'actual', 'intentional', 'unstrangeness', 'and', 'riding,', 'a', 'single', 'action', 'caused', 'necessarily', 'is', 'not', 'more', 'a', 'sign', 'than', 'a', 'minister.', 'Seat', 'a', 'knife', 'near', 'a', 'cage', 'and', 'very', 'near', 'a', 'decision', 'and', 'more', 'nearly', 'a', 'timely', 'working', 'cat', 'and', 'scissors.', 'Do', 'this', 'temporarily', 'and', 'make', 'no', 'more', 'mistake', 'in', 'standing.', 'Spread', 'it', 'all', 'and', 'arrange', 'the', 'white', 'place,', 'does', 'this', 'show', 'in', 'the', 'house,', 'does', 'it', 'not', 'show', 'in', 'the', 'green', 'that', 'is', 'not', 'necessary', 'for', 'that', 'color,', 'does', 'it', 'not', 'even', 'show', 'in', 'the', 'explanation', 'and', 'singularly', 'not', 'at', 'all', 'stationary.', 'SUGAR.', 'A', 'violent', 'luck', 'and', 'a', 'whole', 'sample', 'and', 'even', 'then', 'quiet.', 'Water', 'is', 'squeezing,', 'water', 'is', 'almost', 'squeezing', 'on', 'lard.', 'Water,', 'water', 'is', 'a', 'mountain', 'and', 'it', 'is', 'selected', 'and', 'it', 'is', 'so', 'practical', 'that', 'there', 'is', 'no', 'use', 'in', 'money.', 'A', 'mind', 'under', 'is', 'exact', 'and', 'so', 'it', 'is', 'necessary', 'to', 'have', 'a', 'mouth', 'and', 'eye', 'glasses.', 'A', 'question', 'of', 'sudden', 'rises', 'and', 'more', 'time', 'than', 'awfulness', 'is', 'so', 'easy', 'and', 'shady.', 'There', 'is', 'precisely', 'that', 'noise.', 'A', 'peck', 'a', 'small', 'piece', 'not', 'privately', 'overseen,', 'not', 'at', 'all', 'not', 'a', 'slice,', 'not', 'at', 'all', 'crestfallen', 'and', 'open,', 'not', 'at', 'all', 'mounting', 'and', 'chaining', 'and', 'evenly', 'surpassing,', 'all', 'the', 'bidding', 'comes', 'to', 'tea.', 'A', 'separation', 'is', 'not', 'tightly', 'in', 'worsted', 'and', 'sauce,', 'it', 'is', 'so', 'kept', 'well', 'and', 'sectionally.', 'Put', 'it', 'in', 'the', 'stew,', 'put', 'it', 'to', 'shame.', 'A', 'little', 'slight', 'shadow', 'and', 'a', 'solid', 'fine', 'furnace.', 'The', 'teasing', 'is', 'tender', 'and', 'trying', 'and', 'thoughtful.', 'The', 'line', 'which', 'sets', 'sprinkling', 'to', 'be', 'a', 'remedy', 'is', 'beside', 'the', 'best', 'cold.', 'A', 'puzzle,', 'a', 'monster', 'puzzle,', 'a', 'heavy', 'choking,', 'a', 'neglected', 'Tuesday.', 'Wet', 'crossing', 'and', 'a', 'likeness,', 'any', 'likeness,', 'a', 'likeness', 'has', 'blisters,', 'it', 'has', 'that', 'and', 'teeth,', 'it', 'has', 'the', 'staggering', 'blindly', 'and', 'a', 'little', 'green,', 'any', 'little', 'green', 'is', 'ordinary.', 'One,', 'two', 'and', 'one,', 'two,', 'nine,', 'second', 'and', 'five', 'and', 'that.', 'A', 'blaze,', 'a', 'search', 'in', 'between,', 'a', 'cow,', 'only', 'any', 'wet', 'place,', 'only', 'this', 'tune.', 'Cut', 'a', 'gas', 'jet', 'uglier', 'and', 'then', 'pierce', 'pierce', 'in', 'between', 'the', 'next', 'and', 'negligence.', 'Choose', 'the', 'rate', 'to', 'pay', 'and', 'pet', 'pet', 'very', 'much.', 'A', 'collection', 'of', 'all', 'around,', 'a', 'signal', 'poison,', 'a', 'lack', 'of', 'languor', 'and', 'more', 'hurts', 'at', 'ease.', 'A', 'white', 'bird,', 'a', 'colored', 'mine,', 'a', 'mixed', 'orange,', 'a', 'dog.', 'Cuddling', 'comes', 'in', 'continuing', 'a', 'change.', 'A', 'piece', 'of', 'separate', 'outstanding', 'rushing', 'is', 'so', 'blind', 'with', 'open', 'delicacy.', 'A', 'canoe', 'is', 'orderly.', 'A', 'period', 'is', 'solemn.', 'A', 'cow', 'is', 'accepted.', 'A', 'nice', 'old', 'chain', 'is', 'widening,', 'it', 'is', 'absent,', 'it', 'is', 'laid', 'by.', 'CRANBERRIES.', 'Could', 'there', 'not', 'be', 'a', 'sudden', 'date,', 'could', 'there', 'not', 'be', 'in', 'the', 'present', 'settlement', 'of', 'old', 'age', 'pensions,', 'could', 'there', 'not', 'be', 'by', 'a', 'witness,', 'could', 'there', 'be.', 'Count', 'the', 'chain,', 'cut', 'the', 'grass,', 'silence', 'the', 'noon', 'and', 'murder', 'flies.', 'See', 'the', 'basting', 'undip', 'the', 'chart,', 'see', 'the', 'way', 'the', 'kinds', 'are', 'best', 'seen', 'from', 'the', 'rest,', 'from', 'that', 'and', 'untidy.', 'Cut', 'the', 'whole', 'space', 'into', 'twenty-four', 'spaces', 'and', 'then', 'and', 'then', 'is', 'there', 'a', 'yellow', 'color,', 'there', 'is', 'but', 'it', 'is', 'smelled,', 'it', 'is', 'then', 'put', 'where', 'it', 'is', 'and', 'nothing', 'stolen.', 'A', 'remarkable', 'degree', 'of', 'red', 'means', 'that,', 'a', 'remarkable', 'exchange', 'is', 'made.', 'Climbing', 'altogether', 'in', 'when', 'there', 'is', 'a', 'solid', 'chance', 'of', 'soiling', 'no', 'more', 'than', 'a', 'dirty', 'thing,', 'coloring', 'all', 'of', 'it', 'in', 'steadying', 'is', 'jelly.', 'Just', 'as', 'it', 'is', 'suffering,', 'just', 'as', 'it', 'is', 'succeeded,', 'just', 'as', 'it', 'is', 'moist', 'so', 'is', 'there', 'no', 'countering.', 'MILK.', 'A', 'white', 'egg', 'and', 'a', 'colored', 'pan', 'and', 'a', 'cabbage', 'showing', 'settlement,', 'a', 'constant', 'increase.', 'A', 'cold', 'in', 'a', 'nose,', 'a', 'single', 'cold', 'nose', 'makes', 'an', 'excuse.', 'Two', 'are', 'more', 'necessary.', 'All', 'the', 'goods', 'are', 'stolen,', 'all', 'the', 'blisters', 'are', 'in', 'the', 'cup.', 'Cooking,', 'cooking', 'is', 'the', 'recognition', 'between', 'sudden', 'and', 'nearly', 'sudden', 'very', 'little', 'and', 'all', 'large', 'holes.', 'A', 'real', 'pint,', 'one', 'that', 'is', 'open', 'and', 'closed', 'and', 'in', 'the', 'middle', 'is', 'so', 'bad.', 'Tender', 'colds,', 'seen', 'eye', 'holders,', 'all', 'work,', 'the', 'best', 'of', 'change,', 'the', 'meaning,', 'the', 'dark', 'red,', 'all', 'this', 'and', 'bitten,', 'really', 'bitten.', 'Guessing', 'again', 'and', 'golfing', 'again', 'and', 'the', 'best', 'men,', 'the', 'very', 'best', 'men.', 'MILK.', 'Climb', 'up', 'in', 'sight', 'climb', 'in', 'the', 'whole', 'utter', 'needles', 'and', 'a', 'guess', 'a', 'whole', 'guess', 'is', 'hanging.', 'Hanging', 'hanging.', 'EGGS.', 'Kind', 'height,', 'kind', 'in', 'the', 'right', 'stomach', 'with', 'a', 'little', 'sudden', 'mill.', 'Cunning', 'shawl,', 'cunning', 'shawl', 'to', 'be', 'steady.', 'In', 'white', 'in', 'white', 'handkerchiefs', 'with', 'little', 'dots', 'in', 'a', 'white', 'belt', 'all', 'shadows', 'are', 'singular', 'they', 'are', 'singular', 'and', 'procured', 'and', 'relieved.', 'No', 'that', 'is', 'not', 'the', 'cows', 'shame', 'and', 'a', 'precocious', 'sound,', 'it', 'is', 'a', 'bite.', 'Cut', 'up', 'alone', 'the', 'paved', 'way', 'which', 'is', 'harm.', 'Harm', 'is', 'old', 'boat', 'and', 'a', 'likely', 'dash.', 'APPLE.', 'Apple', 'plum,', 'carpet', 'steak,', 'seed', 'clam,', 'colored', 'wine,', 'calm', 'seen,', 'cold', 'cream,', 'best', 'shake,', 'potato,', 'potato', 'and', 'no', 'no', 'gold', 'work', 'with', 'pet,', 'a', 'green', 'seen', 'is', 'called', 'bake', 'and', 'change', 'sweet', 'is', 'bready,', 'a', 'little', 'piece', 'a', 'little', 'piece', 'please.', 'A', 'little', 'piece', 'please.', 'Cane', 'again', 'to', 'the', 'presupposed', 'and', 'ready', 'eucalyptus', 'tree,', 'count', 'out', 'sherry', 'and', 'ripe', 'plates', 'and', 'little', 'corners', 'of', 'a', 'kind', 'of', 'ham.', 'This', 'is', 'use.', 'TAILS.', 'Cold', 'pails,', 'cold', 'with', 'joy', 'no', 'joy.', 'A', 'tiny', 'seat', 'that', 'means', 'meadows', 'and', 'a', 'lapse', 'of', 'cuddles', 'with', 'cheese', 'and', 'nearly', 'bats,', 'all', 'this', 'went', 'messed.', 'The', 'post', 'placed', 'a', 'loud', 'loose', 'sprain.', 'A', 'rest', 'is', 'no', 'better.', 'It', 'is', 'better', 'yet.', 'All', 'the', 'time.', 'LUNCH.', 'Luck', 'in', 'loose', 'plaster', 'makes', 'holy', 'gauge', 'and', 'nearly', 'that,', 'nearly', 'more', 'states,', 'more', 'states', 'come', 'in', 'town', 'light', 'kite,', 'blight', 'not', 'white.', 'A', 'little', 'lunch', 'is', 'a', 'break', 'in', 'skate', 'a', 'little', 'lunch', 'so', 'slimy,', 'a', 'west', 'end', 'of', 'a', 'board', 'line', 'is', 'that', 'which', 'shows', 'a', 'battle', 'beneath', 'so', 'that', 'necessity', 'is', 'a', 'silk', 'under', 'wear.', 'That', 'is', 'best', 'wet.', 'It', 'is', 'so', 'natural,', 'and', 'why', 'is', 'there', 'flake,', 'there', 'is', 'flake', 'to', 'explain', 'exhaust.', 'A', 'real', 'cold', 'hen', 'is', 'nervous', 'is', 'nervous', 'with', 'a', 'towel', 'with', 'a', 'spool', 'with', 'real', 'beads.', 'It', 'is', 'mostly', 'an', 'extra', 'sole', 'nearly', 'all', 'that', 'shaved,', 'shaved', 'with', 'an', 'old', 'mountain,', 'more', 'than', 'that', 'bees', 'more', 'than', 'that', 'dinner', 'and', 'a', 'bunch', 'of', 'likes', 'that', 'is', 'to', 'say', 'the', 'hearts', 'of', 'onions', 'aim', 'less.', 'Cold', 'coffee', 'with', 'a', 'corn', 'a', 'corn', 'yellow', 'and', 'green', 'mass', 'is', 'a', 'gem.', 'CUPS.', 'A', 'single', 'example', 'of', 'excellence', 'is', 'in', 'the', 'meat.', 'A', 'bent', 'stick', 'is', 'surging', 'and', 'might', 'all', 'might', 'is', 'mental.', 'A', 'grand', 'clothes', 'is', 'searching', 'out', 'a', 'candle', 'not', 'that', 'wheatly', 'not', 'that', 'by', 'more', 'than', 'an', 'owl', 'and', 'a', 'path.', 'A', 'ham', 'is', 'proud', 'of', 'cocoanut.', 'A', 'cup', 'is', 'neglected', 'by', 'being', 'all', 'in', 'size.', 'It', 'is', 'a', 'handle', 'and', 'meadows', 'and', 'sugar', 'any', 'sugar.', 'A', 'cup', 'is', 'neglected', 'by', 'being', 'full', 'of', 'size.', 'It', 'shows', 'no', 'shade,', 'in', 'come', 'little', 'wood', 'cuts', 'and', 'blessing', 'and', 'nearly', 'not', 'that', 'not', 'with', 'a', 'wild', 'bought', 'in,', 'not', 'at', 'all', 'so', 'polite,', 'not', 'nearly', 'so', 'behind.', 'Cups', 'crane', 'in.', 'They', 'need', 'a', 'pet', 'oyster,', 'they', 'need', 'it', 'so', 'hoary', 'and', 'nearly', 'choice.', 'The', 'best', 'slam', 'is', 'utter.', 'Nearly', 'be', 'freeze.', 'Why', 'is', 'a', 'cup', 'a', 'stir', 'and', 'a', 'behave.', 'Why', 'is', 'it', 'so', 'seen.', 'A', 'cup', 'is', 'readily', 'shaded,', 'it', 'has', 'in', 'between', 'no', 'sense', 'that', 'is', 'to', 'say', 'music,', 'memory,', 'musical', 'memory.', 'Peanuts', 'blame,', 'a', 'half', 'sand', 'is', 'holey', 'and', 'nearly.', 'RHUBARB.', 'Rhubarb', 'is', 'susan', 'not', 'susan', 'not', 'seat', 'in', 'bunch', 'toys', 'not', 'wild', 'and', 'laughable', 'not', 'in', 'little', 'places', 'not', 'in', 'neglect', 'and', 'vegetable', 'not', 'in', 'fold', 'coal', 'age', 'not', 'please.', 'SINGLE', 'FISH.', 'Single', 'fish', 'single', 'fish', 'single', 'fish', 'egg-plant', 'single', 'fish', 'sight.', 'A', 'sweet', 'win', 'and', 'not', 'less', 'noisy', 'than', 'saddle', 'and', 'more', 'ploughing', 'and', 'nearly', 'well', 'painted', 'by', 'little', 'things', 'so.', 'Please', 'shade', 'it', 'a', 'play.', 'It', 'is', 'necessary', 'and', 'beside', 'the', 'large', 'sort', 'is', 'puff.', 'Every', 'way', 'oakly,', 'please', 'prune', 'it', 'near.', 'It', 'is', 'so', 'found.', 'It', 'is', 'not', 'the', 'same.', 'CAKE.', 'Cake', 'cast', 'in', 'went', 'to', 'be', 'and', 'needles', 'wine', 'needles', 'are', 'such.', 'This', 'is', 'today.', 'A', 'can', 'experiment', 'is', 'that', 'which', 'makes', 'a', 'town,', 'makes', 'a', 'town', 'dirty,', 'it', 'is', 'little', 'please.', 'We', 'came', 'back.', 'Two', 'bore,', 'bore', 'what,', 'a', 'mussed', 'ash,', 'ash', 'when', 'there', 'is', 'tin.', 'This', 'meant', 'cake.', 'It', 'was', 'a', 'sign.', 'Another', 'time', 'there', 'was', 'extra', 'a', 'hat', 'pin', 'sought', 'long', 'and', 'this', 'dark', 'made', 'a', 'display.', 'The', 'result', 'was', 'yellow.', 'A', 'caution,', 'not', 'a', 'caution', 'to', 'be.', 'It', 'is', 'no', 'use', 'to', 'cause', 'a', 'foolish', 'number.', 'A', 'blanket', 'stretch', 'a', 'cloud,', 'a', 'shame,', 'all', 'that', 'bakery', 'can', 'tease,', 'all', 'that', 'is', 'beginning', 'and', 'yesterday', 'yesterday', 'we', 'had', 'it', 'met.', 'It', 'means', 'some', 'change.', 'No', 'some', 'day.', 'A', 'little', 'leaf', 'upon', 'a', 'scene', 'an', 'ocean', 'any', 'where', 'there,', 'a', 'bland', 'and', 'likely', 'in', 'the', 'stream', 'a', 'recollection', 'green', 'land.', 'Why', 'white.', 'CUSTARD.', 'Custard', 'is', 'this.', 'It', 'has', 'aches,', 'aches', 'when.', 'Not', 'to', 'be.', 'Not', 'to', 'be', 'narrowly.', 'This', 'makes', 'a', 'whole', 'little', 'hill.', 'It', 'is', 'better', 'than', 'a', 'little', 'thing', 'that', 'has', 'mellow', 'real', 'mellow.', 'It', 'is', 'better', 'than', 'lakes', 'whole', 'lakes,', 'it', 'is', 'better', 'than', 'seeding.', 'POTATOES.', 'Real', 'potatoes', 'cut', 'in', 'between.', 'POTATOES.', 'In', 'the', 'preparation', 'of', 'cheese,', 'in', 'the', 'preparation', 'of', 'crackers,', 'in', 'the', 'preparation', 'of', 'butter,', 'in', 'it.', 'ROAST', 'POTATOES.', 'Roast', 'potatoes', 'for.', 'ASPARAGUS.', 'Asparagus', 'in', 'a', 'lean', 'in', 'a', 'lean', 'to', 'hot.', 'This', 'makes', 'it', 'art', 'and', 'it', 'is', 'wet', 'wet', 'weather', 'wet', 'weather', 'wet.', 'BUTTER.', 'Boom', 'in', 'boom', 'in,', 'butter.', 'Leave', 'a', 'grain', 'and', 'show', 'it,', 'show', 'it.', 'I', 'spy.', 'It', 'is', 'a', 'need', 'it', 'is', 'a', 'need', 'that', 'a', 'flower', 'a', 'state', 'flower.', 'It', 'is', 'a', 'need', 'that', 'a', 'state', 'rubber.', 'It', 'is', 'a', 'need', 'that', 'a', 'state', 'rubber', 'is', 'sweet', 'and', 'sight', 'and', 'a', 'swelled', 'stretch.', 'It', 'is', 'a', 'need.', 'It', 'is', 'a', 'need', 'that', 'state', 'rubber.', 'Wood', 'a', 'supply.', 'Clean', 'little', 'keep', 'a', 'strange,', 'estrange', 'on', 'it.', 'Make', 'a', 'little', 'white,', 'no', 'and', 'not', 'with', 'pit,', 'pit', 'on', 'in', 'within.', 'END', 'OF', 'SUMMER.', 'Little', 'eyelets', 'that', 'have', 'hammer', 'and', 'a', 'check', 'with', 'stripes', 'between', 'a', 'lounge,', 'in', 'wit,', 'in', 'a', 'rested', 'development.', 'SAUSAGES.', 'Sausages', 'in', 'between', 'a', 'glass.', 'There', 'is', 'read', 'butter.', 'A', 'loaf', 'of', 'it', 'is', 'managed.', 'Wake', 'a', 'question.', 'Eat', 'an', 'instant,', 'answer.', 'A', 'reason', 'for', 'bed', 'is', 'this,', 'that', 'a', 'decline,', 'any', 'decline', 'is', 'poison,', 'poison', 'is', 'a', 'toe', 'a', 'toe', 'extractor,', 'this', 'means', 'a', 'solemn', 'change.', 'Hanging.', 'No', 'evil', 'is', 'wide,', 'any', 'extra', 'in', 'leaf', 'is', 'so', 'strange', 'and', 'singular', 'a', 'red', 'breast.', 'CELERY.', 'Celery', 'tastes', 'tastes', 'where', 'in', 'curled', 'lashes', 'and', 'little', 'bits', 'and', 'mostly', 'in', 'remains.', 'A', 'green', 'acre', 'is', 'so', 'selfish', 'and', 'so', 'pure', 'and', 'so', 'enlivened.', 'VEAL.', 'Very', 'well', 'very', 'well,', 'washing', 'is', 'old,', 'washing', 'is', 'washing.', 'Cold', 'soup,', 'cold', 'soup', 'clear', 'and', 'particular', 'and', 'a', 'principal', 'a', 'principal', 'question', 'to', 'put', 'into.', 'VEGETABLE.', 'What', 'is', 'cut.', 'What', 'is', 'cut', 'by', 'it.', 'What', 'is', 'cut', 'by', 'it', 'in.', 'It', 'was', 'a', 'cress', 'a', 'crescent', 'a', 'cross', 'and', 'an', 'unequal', 'scream,', 'it', 'was', 'upslanting,', 'it', 'was', 'radiant', 'and', 'reasonable', 'with', 'little', 'ins', 'and', 'red.', 'News.', 'News', 'capable', 'of', 'glees,', 'cut', 'in', 'shoes,', 'belike', 'under', 'pump', 'of', 'wide', 'chalk,', 'all', 'this', 'combing.', 'WAY', 'LAY', 'VEGETABLE.', 'Leaves', 'in', 'grass', 'and', 'mow', 'potatoes,', 'have', 'a', 'skip,', 'hurry', 'you', 'up', 'flutter.', 'Suppose', 'it', 'is', 'ex', 'a', 'cake', 'suppose', 'it', 'is', 'new', 'mercy', 'and', 'leave', 'charlotte', 'and', 'nervous', 'bed', 'rows.', 'Suppose', 'it', 'is', 'meal.', 'Suppose', 'it', 'is', 'sam.', 'COOKING.', 'Alas,', 'alas', 'the', 'pull', 'alas', 'the', 'bell', 'alas', 'the', 'coach', 'in', 'china,', 'alas', 'the', 'little', 'put', 'in', 'leaf', 'alas', 'the', 'wedding', 'butter', 'meat,', 'alas', 'the', 'receptacle,', 'alas', 'the', 'back', 'shape', 'of', 'mussle,', 'mussle', 'and', 'soda.', 'CHICKEN.', 'Pheasant', 'and', 'chicken,', 'chicken', 'is', 'a', 'peculiar', 'third.', 'CHICKEN.', 'Alas', 'a', 'dirty', 'word,', 'alas', 'a', 'dirty', 'third', 'alas', 'a', 'dirty', 'third,', 'alas', 'a', 'dirty', 'bird.', 'CHICKEN.', 'Alas', 'a', 'doubt', 'in', 'case', 'of', 'more', 'go', 'to', 'say', 'what', 'it', 'is', 'cress.', 'What', 'is', 'it.', 'Mean.', 'Potato.', 'Loaves.', 'CHICKEN.', 'Stick', 'stick', 'call', 'then,', 'stick', 'stick', 'sticking,', 'sticking', 'with', 'a', 'chicken.', 'Sticking', 'in', 'a', 'extra', 'succession,', 'sticking', 'in.', 'CHAIN-BOATS.', 'Chain-boats', 'are', 'merry,', 'are', 'merry', 'blew,', 'blew', 'west,', 'carpet.', 'PASTRY.', 'Cutting', 'shade,', 'cool', 'spades', 'and', 'little', 'last', 'beds,', 'make', 'violet,', 'violet', 'when.', 'CREAM.', 'In', 'a', 'plank,', 'in', 'a', 'play', 'sole,', 'in', 'a', 'heated', 'red', 'left', 'tree', 'there', 'is', 'shut', 'in', 'specs', 'with', 'salt', 'be', 'where.', 'This', 'makes', 'an', 'eddy.', 'Necessary.', 'CREAM.', 'Cream', 'cut.', 'Any', 'where', 'crumb.', 'Left', 'hop', 'chambers.', 'CUCUMBER.', 'Not', 'a', 'razor', 'less,', 'not', 'a', 'razor,', 'ridiculous', 'pudding,', 'red', 'and', 'relet', 'put', 'in,', 'rest', 'in', 'a', 'slender', 'go', 'in', 'selecting,', 'rest', 'in,', 'rest', 'in', 'in', 'white', 'widening.', 'DINNER.', 'Not', 'a', 'little', 'fit,', 'not', 'a', 'little', 'fit', 'sun', 'sat', 'in', 'shed', 'more', 'mentally.', 'Let', 'us', 'why,', 'let', 'us', 'why', 'weight,', 'let', 'us', 'why', 'winter', 'chess,', 'let', 'us', 'why', 'way.', 'Only', 'a', 'moon', 'to', 'soup', 'her,', 'only', 'that', 'in', 'the', 'sell', 'never', 'never', 'be', 'the', 'cocups', 'nice', 'be,', 'shatter', 'it', 'they', 'lay.', 'Egg', 'ear', 'nuts,', 'look', 'a', 'bout.', 'Shoulder.', 'Let', 'it', 'strange,', 'sold', 'in', 'bell', 'next', 'herds.', 'It', 'was', 'a', 'time', 'when', 'in', 'the', 'acres', 'in', 'late', 'there', 'was', 'a', 'wheel', 'that', 'shot', 'a', 'burst', 'of', 'land', 'and', 'needless', 'are', 'niggers', 'and', 'a', 'sample', 'sample', 'set', 'of', 'old', 'eaten', 'butterflies', 'with', 'spoons,', 'all', 'of', 'it', 'to', 'be', 'are', 'fled', 'and', 'measure', 'make', 'it,', 'make', 'it,', 'yet', 'all', 'the', 'one', 'in', 'that', 'we', 'see', 'where', 'shall', 'not', 'it', 'set', 'with', 'a', 'left', 'and', 'more', 'so,', 'yes', 'there', 'add', 'when', 'the', 'longer', 'not', 'it', 'shall', 'the', 'best', 'in', 'the', 'way', 'when', 'all', 'be', 'with', 'when', 'shall', 'not', 'for', 'there', 'with', 'see', 'and', 'chest', 'how', 'for', 'another', 'excellent', 'and', 'excellent', 'and', 'easy', 'easy', 'excellent', 'and', 'easy', 'express', 'e', 'c,', 'all', 'to', 'be', 'nice', 'all', 'to', 'be', 'no', 'so.', 'All', 'to', 'be', 'no', 'so', 'no', 'so.', 'All', 'to', 'be', 'not', 'a', 'white', 'old', 'chat', 'churner.', 'Not', 'to', 'be', 'any', 'example', 'of', 'an', 'edible', 'apple', 'in.', 'DINING.', 'Dining', 'is', 'west.', 'EATING.', 'Eat', 'ting,', 'eating', 'a', 'grand', 'old', 'man', 'said', 'roof', 'and', 'never', 'never', 're', 'soluble', 'burst,', 'not', 'a', 'near', 'ring', 'not', 'a', 'bewildered', 'neck,', 'not', 'really', 'any', 'such', 'bay.', 'Is', 'it', 'so', 'a', 'noise', 'to', 'be', 'is', 'it', 'a', 'least', 'remain', 'to', 'rest,', 'is', 'it', 'a', 'so', 'old', 'say', 'to', 'be,', 'is', 'it', 'a', 'leading', 'are', 'been.', 'Is', 'it', 'so,', 'is', 'it', 'so,', 'is', 'it', 'so,', 'is', 'it', 'so', 'is', 'it', 'so', 'is', 'it', 'so.', 'Eel', 'us', 'eel', 'us', 'with', 'no', 'no', 'pea', 'no', 'pea', 'cool,', 'no', 'pea', 'cool', 'cooler,', 'no', 'pea', 'cooler', 'with', 'a', 'land', 'a', 'land', 'cost', 'in,', 'with', 'a', 'land', 'cost', 'in', 'stretches.', 'Eating', 'he', 'heat', 'eating', 'he', 'heat', 'it', 'eating,', 'he', 'heat', 'it', 'heat', 'eating.', 'He', 'heat', 'eating.', 'A', 'little', 'piece', 'of', 'pay', 'of', 'pay', 'owls', 'owls', 'such', 'as', 'pie,', 'bolsters.', 'Will', 'leap', 'beat,', 'willie', 'well', 'all.', 'The', 'rest', 'rest', 'oxen', 'occasion', 'occasion', 'to', 'be', 'so', 'purred,', 'so', 'purred', 'how.', 'It', 'was', 'a', 'ham', 'it', 'was', 'a', 'square', 'come', 'well', 'it', 'was', 'a', 'square', 'remain,', 'a', 'square', 'remain', 'not', 'it', 'a', 'bundle,', 'not', 'it', 'a', 'bundle', 'so', 'is', 'a', 'grip,', 'a', 'grip', 'to', 'shed', 'bay', 'leave', 'bay', 'leave', 'draught,', 'bay', 'leave', 'draw', 'cider', 'in', 'low,', 'cider', 'in', 'low', 'and', 'george.', 'George', 'is', 'a', 'mass.', 'EATING.', 'It', 'was', 'a', 'shame', 'it', 'was', 'a', 'shame', 'to', 'stare', 'to', 'stare', 'and', 'double', 'and', 'relieve', 'relieve', 'be', 'cut', 'up', 'show', 'as', 'by', 'the', 'elevation', 'of', 'it', 'and', 'out', 'out', 'more', 'in', 'the', 'steady', 'where', 'the', 'come', 'and', 'on', 'and', 'the', 'all', 'the', 'shed', 'and', 'that.', 'It', 'was', 'a', 'garden', 'and', 'belows', 'belows', 'straight.', 'It', 'was', 'a', 'pea,', 'a', 'pea', 'pour', 'it', 'in', 'its', 'not', 'a', 'succession,', 'not', 'it', 'a', 'simple,', 'not', 'it', 'a', 'so', 'election,', 'election', 'with.', 'SALAD.', 'It', 'is', 'a', 'winning', 'cake.', 'SAUCE.', 'What', 'is', 'bay', 'labored', 'what', 'is', 'all', 'be', 'section,', 'what', 'is', 'no', 'much.', 'Sauce', 'sam', 'in.', 'SALMON.', 'It', 'was', 'a', 'peculiar', 'bin', 'a', 'bin', 'fond', 'in', 'beside.', 'ORANGE.', 'Why', 'is', 'a', 'feel', 'oyster', 'an', 'egg', 'stir.', 'Why', 'is', 'it', 'orange', 'centre.', 'A', 'show', 'at', 'tick', 'and', 'loosen', 'loosen', 'it', 'so', 'to', 'speak', 'sat.', 'It', 'was', 'an', 'extra', 'leaker', 'with', 'a', 'see', 'spoon,', 'it', 'was', 'an', 'extra', 'licker', 'with', 'a', 'see', 'spoon.', 'ORANGE.', 'A', 'type', 'oh', 'oh', 'new', 'new', 'not', 'no', 'not', 'knealer', 'knealer', 'of', 'old', 'show', 'beefsteak,', 'neither', 'neither.', 'ORANGES.', 'Build', 'is', 'all', 'right.', 'ORANGE', 'IN.', 'Go', 'lack', 'go', 'lack', 'use', 'to', 'her.', 'Cocoa', 'and', 'clear', 'soup', 'and', 'oranges', 'and', 'oat-meal.', 'Whist', 'bottom', 'whist', 'close,', 'whist', 'clothes,', 'woodling.', 'Cocoa', 'and', 'clear', 'soup', 'and', 'oranges', 'and', 'oat-meal.', 'Pain', 'soup,', 'suppose', 'it', 'is', 'question,', 'suppose', 'it', 'is', 'butter,', 'real', 'is,', 'real', 'is', 'only,', 'only', 'excreate,', 'only', 'excreate', 'a', 'no', 'since.', 'A', 'no,', 'a', 'no', 'since,', 'a', 'no', 'since', 'when,', 'a', 'no', 'since', 'when', 'since,', 'a', 'no', 'since', 'when', 'since', 'a', 'no', 'since', 'when', 'since,', 'a', 'no', 'since,', 'a', 'no', 'since', 'when', 'since,', 'a', 'no', 'since,', 'a', 'no,', 'a', 'no', 'since', 'a', 'no', 'since,', 'a', 'no', 'since,', 'a', 'no', 'since.', 'SALAD', 'DRESSING', 'AND', 'AN', 'ARTICHOKE.', 'Please', 'pale', 'hot,', 'please', 'cover', 'rose,', 'please', 'acre', 'in', 'the', 'red', 'stranger,', 'please', 'butter', 'all', 'the', 'beef-steak', 'with', 'regular', 'feel', 'faces.', 'SALAD', 'DRESSING', 'AND', 'AN', 'ARTICHOKE.', 'It', 'was', 'please', 'it', 'was', 'please', 'carriage', 'cup', 'in', 'an', 'ice-cream,', 'in', 'an', 'ice-cream', 'it', 'was', 'too', 'bended', 'bended', 'with', 'scissors', 'and', 'all', 'this', 'time.', 'A', 'whole', 'is', 'inside', 'a', 'part,', 'a', 'part', 'does', 'go', 'away,', 'a', 'hole', 'is', 'red', 'leaf.', 'No', 'choice', 'was', 'where', 'there', 'was', 'and', 'a', 'second', 'and', 'a', 'second.', 'A', 'CENTRE', 'IN', 'A', 'TABLE.', 'It', 'was', 'a', 'way', 'a', 'day,', 'this', 'made', 'some', 'sum.', 'Suppose', 'a', 'cod', 'liver', 'a', 'cod', 'liver', 'is', 'an', 'oil,', 'suppose', 'a', 'cod', 'liver', 'oil', 'is', 'tunny,', 'suppose', 'a', 'cod', 'liver', 'oil', 'tunny', 'is', 'pressed', 'suppose', 'a', 'cod', 'liver', 'oil', 'tunny', 'pressed', 'is', 'china', 'and', 'secret', 'with', 'a', 'bestow', 'a', 'bestow', 'reed,', 'a', 'reed', 'to', 'be', 'a', 'reed', 'to', 'be,', 'in', 'a', 'reed', 'to', 'be.', 'Next', 'to', 'me', 'next', 'to', 'a', 'folder,', 'next', 'to', 'a', 'folder', 'some', 'waiter,', 'next', 'to', 'a', 'foldersome', 'waiter', 'and', 're', 'letter', 'and', 'read', 'her.', 'Read', 'her', 'with', 'her', 'for', 'less.']\n"
     ]
    }
   ],
   "source": [
    "## @TODO: Load one of your texts and tokenize it\n",
    "#\n",
    "with open('../corpora/gertrude/food.txt') as file:\n",
    "    my_text=file.read()\n",
    "    my_tokens=tokenize(my_text)\n",
    "    print(my_tokens)\n"
   ]
  },
  {
   "cell_type": "markdown",
   "metadata": {},
   "source": [
    "### Using NLTK's tokenizer\n",
    "\n",
    "Writing tokenizers is tricky! We don't have to reinvent the wheel. A great source for natural language processing (NLP) functions, written in Python, is [NLTK](http://www.nltk.org/). There's also a [free online book](http://www.nltk.org/book/) teaching you NLP in Python with NLTK—check that out for more information and a ton of helpful tutorials and information."
   ]
  },
  {
   "cell_type": "code",
   "execution_count": 25,
   "metadata": {},
   "outputs": [],
   "source": [
    "# Import NLTK. If this doesn't work, open terminal and type: pip install nltk\n",
    "import nltk"
   ]
  },
  {
   "cell_type": "code",
   "execution_count": 27,
   "metadata": {},
   "outputs": [
    {
     "data": {
      "text/plain": [
       "['i', 'hate', 'you', '!']"
      ]
     },
     "execution_count": 27,
     "metadata": {},
     "output_type": "execute_result"
    }
   ],
   "source": [
    "nltk.word_tokenize('i hate you!')"
   ]
  },
  {
   "cell_type": "code",
   "execution_count": 28,
   "metadata": {},
   "outputs": [
    {
     "data": {
      "text/plain": [
       "['A', 'word—any', 'word—is', 'a', 'whole', 'world', '.']"
      ]
     },
     "execution_count": 28,
     "metadata": {},
     "output_type": "execute_result"
    }
   ],
   "source": [
    "# NLTK still misses a few things:\n",
    "\n",
    "nltk.word_tokenize('A word—any word—is a whole world.')"
   ]
  },
  {
   "cell_type": "code",
   "execution_count": 29,
   "metadata": {},
   "outputs": [],
   "source": [
    "# We could improve NLTK's tokenizer\n",
    "\n",
    "def tokenize2(string):\n",
    "    \"\"\"\n",
    "    This function will accept a string as an argument,\n",
    "    and return a list of its tokens.\n",
    "    \n",
    "    It will use NLTK's word_tokenize() function as its main process.\n",
    "    But it will also clean up the string *before* passing it to word_tokenize().\n",
    "    \"\"\"\n",
    "    \n",
    "    #@TODO: Finish this function\n",
    "    \n",
    "    return nltk.word_tokenize(string)"
   ]
  },
  {
   "cell_type": "code",
   "execution_count": 30,
   "metadata": {},
   "outputs": [
    {
     "data": {
      "text/plain": [
       "['sup', '!', 'i', 'hate', 'you', '!']"
      ]
     },
     "execution_count": 30,
     "metadata": {},
     "output_type": "execute_result"
    }
   ],
   "source": [
    "tokenize2('sup! i hate you!')"
   ]
  },
  {
   "cell_type": "code",
   "execution_count": 31,
   "metadata": {},
   "outputs": [
    {
     "data": {
      "text/plain": [
       "['Letter',\n",
       " 'came',\n",
       " 'today',\n",
       " '.',\n",
       " 'Go',\n",
       " 'figure',\n",
       " '.',\n",
       " 'Never',\n",
       " 'heard',\n",
       " 'of',\n",
       " 'this',\n",
       " 'cousin',\n",
       " ',',\n",
       " 'but',\n",
       " 'he',\n",
       " '’',\n",
       " 's',\n",
       " 'got',\n",
       " 'it',\n",
       " 'all',\n",
       " 'right',\n",
       " ':',\n",
       " 'name',\n",
       " 'of',\n",
       " 'Bobby',\n",
       " '’',\n",
       " 's',\n",
       " 'dad',\n",
       " ',',\n",
       " 'name',\n",
       " 'of',\n",
       " 'his',\n",
       " 'mom',\n",
       " ',',\n",
       " 'name',\n",
       " 'of',\n",
       " 'his',\n",
       " 'uncles',\n",
       " '.',\n",
       " 'Bobby',\n",
       " 'reads',\n",
       " 'it',\n",
       " 'again',\n",
       " '.',\n",
       " 'Reads',\n",
       " 'it',\n",
       " 'three',\n",
       " 'times',\n",
       " '.',\n",
       " 'Cousin',\n",
       " 'from',\n",
       " 'Hong',\n",
       " 'Tian',\n",
       " 'in',\n",
       " 'Fujian',\n",
       " ',',\n",
       " 'same',\n",
       " 'village',\n",
       " 'as',\n",
       " 'his',\n",
       " 'mother',\n",
       " '’',\n",
       " 's',\n",
       " 'father',\n",
       " '.',\n",
       " 'Got',\n",
       " 'ta',\n",
       " 'be',\n",
       " 'a',\n",
       " 'distant',\n",
       " 'cousin',\n",
       " '.',\n",
       " 'Could',\n",
       " 'be',\n",
       " 'a',\n",
       " 'trick',\n",
       " ',',\n",
       " 'but',\n",
       " 'could',\n",
       " 'be',\n",
       " 'legit',\n",
       " '.',\n",
       " 'Besides',\n",
       " ',',\n",
       " 'how',\n",
       " '’',\n",
       " 'd',\n",
       " 'he',\n",
       " 'find',\n",
       " 'him',\n",
       " '?',\n",
       " 'How',\n",
       " '’',\n",
       " 'd',\n",
       " 'he',\n",
       " 'know',\n",
       " 'Bobby',\n",
       " 'was',\n",
       " 'Chinese',\n",
       " 'from',\n",
       " 'Singapore',\n",
       " '?',\n",
       " 'Knows',\n",
       " 'everything',\n",
       " '.',\n",
       " 'Knows',\n",
       " 'Bobby',\n",
       " '’',\n",
       " 's',\n",
       " 'Chinese',\n",
       " 'name',\n",
       " '.',\n",
       " 'Knows',\n",
       " 'about',\n",
       " 'the',\n",
       " 'family',\n",
       " 'bicycle',\n",
       " 'business',\n",
       " '.',\n",
       " 'Cousin',\n",
       " '’',\n",
       " 's',\n",
       " 'in',\n",
       " 'trouble',\n",
       " '.',\n",
       " 'Musta',\n",
       " 'got',\n",
       " 'smuggled',\n",
       " 'in',\n",
       " '.',\n",
       " 'One',\n",
       " 'of',\n",
       " 'those',\n",
       " 'boat',\n",
       " 'people',\n",
       " '.',\n",
       " 'Most',\n",
       " 'never',\n",
       " 'make',\n",
       " 'it',\n",
       " '.',\n",
       " 'This',\n",
       " 'one',\n",
       " 'might',\n",
       " 'not',\n",
       " 'either',\n",
       " '.',\n",
       " 'All',\n",
       " 'he',\n",
       " '’',\n",
       " 's',\n",
       " 'got',\n",
       " 'is',\n",
       " 'Bobby',\n",
       " '’',\n",
       " 's',\n",
       " 'name',\n",
       " 'and',\n",
       " 'address',\n",
       " '.',\n",
       " 'Now',\n",
       " 'the',\n",
       " 'smugglers',\n",
       " 'want',\n",
       " 'their',\n",
       " 'money',\n",
       " '.',\n",
       " 'But',\n",
       " 'where',\n",
       " '’',\n",
       " 's',\n",
       " 'the',\n",
       " 'cousin',\n",
       " '?',\n",
       " 'Tijuana',\n",
       " '.',\n",
       " 'Just',\n",
       " 'turn',\n",
       " 'over',\n",
       " 'the',\n",
       " 'money',\n",
       " '.',\n",
       " 'Five',\n",
       " 'thou',\n",
       " 'to',\n",
       " 'get',\n",
       " 'the',\n",
       " 'cousin',\n",
       " 'across',\n",
       " '.',\n",
       " 'If',\n",
       " 'he',\n",
       " 'makes',\n",
       " 'it',\n",
       " ',',\n",
       " 'five',\n",
       " 'thou',\n",
       " 'to',\n",
       " 'get',\n",
       " 'him',\n",
       " 'free',\n",
       " '.',\n",
       " 'China',\n",
       " 'to',\n",
       " 'Chinatown',\n",
       " '.',\n",
       " 'That',\n",
       " '’',\n",
       " 's',\n",
       " 'the',\n",
       " 'deal',\n",
       " '.']"
      ]
     },
     "execution_count": 31,
     "metadata": {},
     "output_type": "execute_result"
    }
   ],
   "source": [
    "tokenize2(bobby)"
   ]
  },
  {
   "cell_type": "markdown",
   "metadata": {},
   "source": [
    "## Type/Token Ratio\n",
    "\n",
    "A common statistic in corpus linguistics/text mining is the type token ratio (TTR). It is defined simply by\n",
    "\n",
    "    TTR = (# of word types) / (# of word tokens)\n",
    "    \n",
    "Where\n",
    "\n",
    "* \\# of word **types** = the number of *unique* words in a list of words\n",
    "* \\# of word **tokens** = the number of *all* words, including repeated words; \n"
   ]
  },
  {
   "cell_type": "code",
   "execution_count": 32,
   "metadata": {},
   "outputs": [],
   "source": [
    "## @TODO: Get the number of tokens for Bobby's paragraph\n",
    "#\n",
    "\n",
    "num_tokens_bobby = len(tokenize2(bobby))"
   ]
  },
  {
   "cell_type": "code",
   "execution_count": 82,
   "metadata": {},
   "outputs": [
    {
     "name": "stdout",
     "output_type": "stream",
     "text": [
      "Hamlet as a list: ['to', 'be', 'or', 'not', 'to', 'be']\n",
      "Hamlet as a SET: {'or', 'not', 'to', 'be'}\n"
     ]
    }
   ],
   "source": [
    "# To get the types, we use the SET data type\n",
    "\n",
    "the_question_as_list = ['to','be','or','not','to','be']\n",
    "the_question_as_set = set(the_question_as_list)\n",
    "\n",
    "print('Hamlet as a list:',the_question_as_list)\n",
    "print('Hamlet as a SET:', the_question_as_set)"
   ]
  },
  {
   "cell_type": "code",
   "execution_count": 83,
   "metadata": {},
   "outputs": [],
   "source": [
    "## @TODO: Get the number of types for Bobby's paragraph\n",
    "#\n",
    "\n",
    "num_types_bobby = __"
   ]
  },
  {
   "cell_type": "code",
   "execution_count": 84,
   "metadata": {},
   "outputs": [],
   "source": [
    "## @TODO: Print the TTR for Bobby's paragraph\n",
    "#\n",
    "\n"
   ]
  },
  {
   "cell_type": "code",
   "execution_count": 85,
   "metadata": {},
   "outputs": [],
   "source": [
    "## @TODO: Write a function to calculate the TTR from any *STRING*\n",
    "#\n"
   ]
  },
  {
   "cell_type": "markdown",
   "metadata": {},
   "source": [
    "## Other NLTK Goodies"
   ]
  },
  {
   "cell_type": "code",
   "execution_count": 98,
   "metadata": {},
   "outputs": [],
   "source": [
    "# Open Rafaela's chapter\n",
    "\n",
    "with open('../corpora/tropic_of_orange/texts/ch01.txt') as file:\n",
    "    rafaela_str = file.read()"
   ]
  },
  {
   "cell_type": "code",
   "execution_count": 99,
   "metadata": {},
   "outputs": [],
   "source": [
    "# Tokenize Rafaela\n",
    "\n",
    "rafaela_tokens = nltk.word_tokenize(rafaela_str.lower())"
   ]
  },
  {
   "cell_type": "code",
   "execution_count": 100,
   "metadata": {},
   "outputs": [],
   "source": [
    "# Make an NLTK text object\n",
    "\n",
    "rafaela_nltk = nltk.Text(rafaela_tokens)"
   ]
  },
  {
   "cell_type": "markdown",
   "metadata": {},
   "source": [
    "### Concordances"
   ]
  },
  {
   "cell_type": "code",
   "execution_count": 106,
   "metadata": {},
   "outputs": [
    {
     "name": "stdout",
     "output_type": "stream",
     "text": [
      "Displaying 4 of 4 matches:\n",
      "ebs , and human hair . an iguana , a crab , and a mouse . and there was the sc\n",
      "ck into the house . the iguana , the crab , and the mouse , for example , were\n",
      "jamming the gears with pieces of the crab , not to mention everything else , a\n",
      "volkswagen van . the story about the crab seemed unlikely . his land was much \n"
     ]
    }
   ],
   "source": [
    "rafaela_nltk.concordance('crab')"
   ]
  },
  {
   "cell_type": "code",
   "execution_count": 117,
   "metadata": {},
   "outputs": [
    {
     "name": "stdout",
     "output_type": "stream",
     "text": [
      "Displaying 18 of 18 matches:\n",
      " . a sweet gooey marmalade from his orange trees , perhaps . but perhaps not .\n",
      "de eight years ago . it was a navel orange tree , maybe the descendent of the \n",
      " detail gabriel liked . bringing an orange tree ( no matter that it was probab\n",
      "ee was a sorry one , and so was the orange . rafaela knew it was an orange tha\n",
      "the orange . rafaela knew it was an orange that should not have been . it was \n",
      "afaela somehow felt this particular orange was special . perhaps it was her de\n",
      "on , she found herself watching the orange , wandering out to the tree every d\n",
      "n and beyond . in the days when the orange was a blossom of soft petals , its \n",
      "ed her . she had passed beneath the orange several times , drawn to its sweet \n",
      "r with pleasure . and when the baby orange appeared , it seemed to grasp that \n",
      "uld be a parent . as expected , the orange did not grow to be very big or seem\n",
      "nd sol walked hand in hand past the orange tree , careful not to disturb the l\n",
      "lstice . she glanced briefly at the orange with some satisfaction and hurried \n",
      "h . rafaela glanced back toward the orange tree and the single orange , sudden\n",
      "ward the orange tree and the single orange , suddenly aware of the only possib\n",
      "eat ball of fire directly above the orange tree . it seemed even to point at t\n",
      "tree , at the strange line , at the orange itself . rafaela ran after sol into\n",
      "usea . she did not realize that the orange had fallen irresistibly from a heig\n"
     ]
    }
   ],
   "source": [
    "rafaela_nltk.concordance('orange')"
   ]
  },
  {
   "cell_type": "code",
   "execution_count": 118,
   "metadata": {},
   "outputs": [],
   "source": [
    "## @TODO:\n",
    "# - Load one of your texts\n",
    "# - Make a concordance for a word of interest\n",
    "#\n"
   ]
  },
  {
   "cell_type": "markdown",
   "metadata": {},
   "source": [
    "### Dispersion plots"
   ]
  },
  {
   "cell_type": "code",
   "execution_count": 120,
   "metadata": {},
   "outputs": [
    {
     "data": {
      "image/png": "[encoded data removed]",
      "text/plain": [
       "<Figure size 432x288 with 1 Axes>"
      ]
     },
     "metadata": {
      "needs_background": "light"
     },
     "output_type": "display_data"
    }
   ],
   "source": [
    "# Re-run this line if the figure doesn't show up the first time\n",
    "\n",
    "rafaela_nltk.dispersion_plot(['crab','iguana','orange','tropic'])"
   ]
  },
  {
   "cell_type": "code",
   "execution_count": 121,
   "metadata": {},
   "outputs": [],
   "source": [
    "## @TODO:\n",
    "# - Load one of your texts\n",
    "# - Make a dispersion plot for a few words of interest\n",
    "#\n"
   ]
  }
 ],
 "metadata": {
  "kernelspec": {
   "display_name": "Python 3",
   "language": "python",
   "name": "python3"
  },
  "language_info": {
   "codemirror_mode": {
    "name": "ipython",
    "version": 3
   },
   "file_extension": ".py",
   "mimetype": "text/x-python",
   "name": "python",
   "nbconvert_exporter": "python",
   "pygments_lexer": "ipython3",
   "version": "3.7.1"
  }
 },
 "nbformat": 4,
 "nbformat_minor": 2
}
