{
 "cells": [
  {
   "cell_type": "code",
   "execution_count": 13,
   "metadata": {},
   "outputs": [],
   "source": [
    "#Open two of your text files with Python\n",
    "#(and store their contents in two string variables)\n",
    "#Tokenize your two texts (string -> list)\n",
    "\n",
    "with open('../corpora/gertrude/food.txt') as file1:\n",
    "    food_str = file1.read()\n",
    "    \n",
    "with open('../corpora/gertrude/rooms.txt') as file2:\n",
    "    rooms_str = file2.read()\n",
    " \n",
    "import nltk\n",
    "food_tokens = nltk.word_tokenize(food_str.lower())\n",
    "rooms_tokens = nltk.word_tokenize(rooms_str.lower())"
   ]
  },
  {
   "cell_type": "code",
   "execution_count": 23,
   "metadata": {},
   "outputs": [
    {
     "name": "stdout",
     "output_type": "stream",
     "text": [
      "0.316\n",
      "0.299\n",
      "\n",
      "Reflection on TTR: Food is split up into various sections on different food items,\n",
      " whereas rooms is one continuous piece of text which ostensibly does not cover\n",
      " as many topics. But the TTR really isn't very different between the two texts,\n",
      " which is reflected in the fact that Rooms meanders through various topics,\n",
      " and is not in fact all about rooms.\n"
     ]
    }
   ],
   "source": [
    "#Write a function to calculate TTR (Type-Token Ratio) for both your texts\n",
    "#Note: TTR is comparable across texts if both texts contain the same number of words.\n",
    "#In your function, slice the first 1000 words, and then calculate the\n",
    "#number of types and number of tokens only in those 1000 words.\n",
    "\n",
    "def TTR(list):\n",
    "    l_1000 = list[:1000]\n",
    "    \n",
    "    set_1000 = set(l_1000)\n",
    "\n",
    "    return len(set_1000)/len(l_1000)\n",
    "\n",
    "print(TTR(food_tokens))\n",
    "print(TTR(rooms_tokens))\n",
    "\n",
    "#Write a few sentences speculating on one thing you found. (This is meant to start warming the engines of interpretation for your project.) For example:\n",
    "#Why would one text be more repetitive (low TTR) or less repetitive (high TTR) than the other?\n",
    "\n",
    "print('\\nReflection on TTR: Food is split up into various sections on different food items,\\n whereas rooms is one continuous piece of text which ostensibly does not cover\\n as many topics. But the TTR really isn\\'t very different between the two texts,\\n which is reflected in the fact that Rooms meanders through various topics,\\n and is not in fact all about rooms.')\n"
   ]
  },
  {
   "cell_type": "code",
   "execution_count": 36,
   "metadata": {
    "scrolled": true
   },
   "outputs": [
    {
     "name": "stdout",
     "output_type": "stream",
     "text": [
      "CONCORDANCE ORANGE IN FOOD\n",
      "Displaying 8 of 8 matches:\n",
      "er . tin is never narrow and thick . color is in coal . coal is outlasting roas\n",
      "ck , no trick is mountainous and the color , all the rush is in the blood . bar\n",
      "ker and to read redder , to have the color better , to sort out dinner , to rem\n",
      " there is not salmon when brown is a color , there is salmon when there is no m\n",
      "plan that there can be . an ordinary color , a color is that strange mixture wh\n",
      "there can be . an ordinary color , a color is that strange mixture which makes \n",
      "green that is not necessary for that color , does it not even show in the expla\n",
      " and then and then is there a yellow color , there is but it is smelled , it is\n",
      "\n",
      "CONCORDANCE COLOR IN ROOMS\n",
      "Displaying 10 of 10 matches:\n",
      "onfuses the substance which was of a color . then came the time for discriminat\n",
      "at does not mean that they differ in color , it means a union between use and e\n",
      "rber . so the shape is there and the color and the outline and the miserable ce\n",
      " this does show the teeth , it shows color . a measure is that which put up so \n",
      ", why is there a single piece of any color , why is there that sensible silence\n",
      "cadences , real cadences and a quiet color . careful and curved , cake and sobe\n",
      "white for a tune when there is straw color . this shows no face . star-light , \n",
      "ished and red which is red is a dark color . an example of this is fifteen year\n",
      "l and making yellow any yellow every color in a shade which is expressed in a t\n",
      "nd a serenity . powder , that has no color , if it did have would it be white .\n"
     ]
    },
    {
     "data": {
      "image/png": "[encoded data removed]",
      "text/plain": [
       "<Figure size 432x288 with 1 Axes>"
      ]
     },
     "metadata": {
      "needs_background": "light"
     },
     "output_type": "display_data"
    },
    {
     "data": {
      "image/png": "[encoded data removed]",
      "text/plain": [
       "<Figure size 432x288 with 1 Axes>"
      ]
     },
     "metadata": {
      "needs_background": "light"
     },
     "output_type": "display_data"
    },
    {
     "name": "stdout",
     "output_type": "stream",
     "text": [
      "On concordance: Interesting that the word \"color\" comes at a sentence-final position\n",
      " in \"Rooms,\" whereas it is more often before a comma in \"Food.\" Color seems to be used\n",
      " in a slightly more abstract fashion in \"Rooms.\" Perhaps it synthesizes thoughts and\n",
      " objects in \"Rooms,\" whereas it has a more active role in description and creation in \"Food.\"\n",
      "\n",
      "On dispersion: The plots make clear the fact that \"Rooms\" does not invoke color names in conjunction with the word \"color\" as often as \"Food\" does. This is one fact that speaks to my intuition that \"Rooms\" uses color in a more abstract way. It's also interesting that white continues to be a predominant color word in \"Rooms\" while most of the other colors frequently used in \"Food,\" like red, orange, and green drop out.\n"
     ]
    }
   ],
   "source": [
    "#Create an NLTK Text object for both your texts\n",
    "#Do one or both of the following:\n",
    "#Make a concordance with NLTK using your texts\n",
    "#Make a dispersion plot with NLTK using your texts\n",
    "\n",
    "food_nltk = nltk.Text(food_tokens)\n",
    "rooms_nltk = nltk.Text(rooms_tokens)\n",
    "\n",
    "print('CONCORDANCE ORANGE IN FOOD')\n",
    "food_nltk.concordance('color')\n",
    "print('\\nCONCORDANCE COLOR IN ROOMS')\n",
    "rooms_nltk.concordance('color')\n",
    "\n",
    "food_nltk.dispersion_plot(['color','red', 'orange', 'yellow', 'green',\n",
    "                           'blue','purple','pink','brown','white','grey','black'])\n",
    "\n",
    "rooms_nltk.dispersion_plot(['color','red', 'orange', 'yellow', 'green',\n",
    "                           'blue','purple','pink','brown','white','grey','black'])\n",
    "\n",
    "\n",
    "#Interpret the concordance(s) you created. What patterns do you see? Are these patterns distinct across your texts?\n",
    "print('On concordance: Interesting that the word \"color\" comes at a sentence-final position\\n in \"Rooms,\" whereas it is more often before a comma in \"Food.\" Color seems to be used\\n in a slightly more abstract fashion in \"Rooms.\" Perhaps it synthesizes thoughts and\\n objects in \"Rooms,\" whereas it has a more active role in description and creation in \"Food.\"\\n')\n",
    "\n",
    "#Speculate on the dispersion plot(s) you created. Do you see a pattern?\n",
    "print('On dispersion: The plots make clear the fact that \"Rooms\" does not invoke color names in conjunction with the word \"color\" as often as \"Food\" does. This is one fact that speaks to my intuition that \"Rooms\" uses color in a more abstract way. It\\'s also interesting that white continues to be a predominant color word in \"Rooms\" while most of the other colors frequently used in \"Food,\" like red, orange, and green drop out.')\n",
    "\n",
    "\n"
   ]
  },
  {
   "cell_type": "code",
   "execution_count": null,
   "metadata": {},
   "outputs": [],
   "source": []
  }
 ],
 "metadata": {
  "kernelspec": {
   "display_name": "Python 3",
   "language": "python",
   "name": "python3"
  },
  "language_info": {
   "codemirror_mode": {
    "name": "ipython",
    "version": 3
   },
   "file_extension": ".py",
   "mimetype": "text/x-python",
   "name": "python",
   "nbconvert_exporter": "python",
   "pygments_lexer": "ipython3",
   "version": "3.7.1"
  }
 },
 "nbformat": 4,
 "nbformat_minor": 2
}
